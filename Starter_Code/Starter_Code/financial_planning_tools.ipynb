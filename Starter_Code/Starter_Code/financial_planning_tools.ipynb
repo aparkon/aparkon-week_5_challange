{
 "cells": [
  {
   "cell_type": "markdown",
   "metadata": {},
   "source": [
    "# Financial Planning with APIs and Simulations\n",
    "\n",
    "In this Challenge, you’ll create two financial analysis tools by using a single Jupyter notebook:\n",
    "\n",
    "Part 1: A financial planner for emergencies. The members will be able to use this tool to visualize their current savings. The members can then determine if they have enough reserves for an emergency fund.\n",
    "\n",
    "Part 2: A financial planner for retirement. This tool will forecast the performance of their retirement portfolio in 30 years. To do this, the tool will make an Alpaca API call via the Alpaca SDK to get historical price data for use in Monte Carlo simulations.\n",
    "\n",
    "You’ll use the information from the Monte Carlo simulation to answer questions about the portfolio in your Jupyter notebook.\n",
    "\n"
   ]
  },
  {
   "cell_type": "code",
   "execution_count": 1,
   "metadata": {},
   "outputs": [],
   "source": [
    "# Import the required libraries and dependencies\n",
    "import os\n",
    "import requests\n",
    "import json\n",
    "import pandas as pd\n",
    "import numpy as np\n",
    "from dotenv import load_dotenv\n",
    "import alpaca_trade_api as tradeapi\n",
    "from MCForecastTools import MCSimulation\n",
    "\n",
    "%matplotlib inline"
   ]
  },
  {
   "cell_type": "code",
   "execution_count": 2,
   "metadata": {},
   "outputs": [
    {
     "data": {
      "text/plain": [
       "True"
      ]
     },
     "execution_count": 2,
     "metadata": {},
     "output_type": "execute_result"
    }
   ],
   "source": [
    "# Load the environment variables from the .env file\n",
    "#by calling the load_dotenv function\n",
    "load_dotenv()"
   ]
  },
  {
   "cell_type": "markdown",
   "metadata": {},
   "source": [
    "## Part 1: Create a Financial Planner for Emergencies"
   ]
  },
  {
   "cell_type": "markdown",
   "metadata": {},
   "source": [
    "### Evaluate the Cryptocurrency Wallet by Using the Requests Library\n",
    "\n",
    "In this section, you’ll determine the current value of a member’s cryptocurrency wallet. You’ll collect the current prices for the Bitcoin and Ethereum cryptocurrencies by using the Python Requests library. For the prototype, you’ll assume that the member holds the 1.2 Bitcoins (BTC) and 5.3 Ethereum coins (ETH). To do all this, complete the following steps:\n",
    "\n",
    "1. Create a variable named `monthly_income`, and set its value to `12000`.\n",
    "\n",
    "2. Use the Requests library to get the current price (in US dollars) of Bitcoin (BTC) and Ethereum (ETH) by using the API endpoints that the starter code supplies.\n",
    "\n",
    "3. Navigate the JSON response object to access the current price of each coin, and store each in a variable.\n",
    "\n",
    "    > **Hint** Note the specific identifier for each cryptocurrency in the API JSON response. The Bitcoin identifier is `1`, and the Ethereum identifier is `1027`.\n",
    "\n",
    "4. Calculate the value, in US dollars, of the current amount of each cryptocurrency and of the entire cryptocurrency wallet.\n",
    "\n"
   ]
  },
  {
   "cell_type": "code",
   "execution_count": 3,
   "metadata": {},
   "outputs": [],
   "source": [
    "# The current number of coins for each cryptocurrency asset held in the portfolio.\n",
    "btc_coins = 1.2\n",
    "eth_coins = 5.3"
   ]
  },
  {
   "cell_type": "markdown",
   "metadata": {},
   "source": [
    "#### Step 1: Create a variable named `monthly_income`, and set its value to `12000`."
   ]
  },
  {
   "cell_type": "code",
   "execution_count": 4,
   "metadata": {},
   "outputs": [],
   "source": [
    "# The monthly amount for the member's household income\n",
    "monthly_income=12000\n"
   ]
  },
  {
   "cell_type": "markdown",
   "metadata": {},
   "source": [
    "#### Review the endpoint URLs for the API calls to Free Crypto API in order to get the current pricing information for both BTC and ETH."
   ]
  },
  {
   "cell_type": "code",
   "execution_count": 5,
   "metadata": {},
   "outputs": [],
   "source": [
    "# The Free Crypto API Call endpoint URLs for the held cryptocurrency assets\n",
    "btc_url = \"https://api.alternative.me/v2/ticker/Bitcoin/?convert=USD\"\n",
    "eth_url = \"https://api.alternative.me/v2/ticker/Ethereum/?convert=USD\""
   ]
  },
  {
   "cell_type": "markdown",
   "metadata": {},
   "source": [
    "#### Step 2. Use the Requests library to get the current price (in US dollars) of Bitcoin (BTC) and Ethereum (ETH) by using the API endpoints that the starter code supplied."
   ]
  },
  {
   "cell_type": "code",
   "execution_count": 6,
   "metadata": {},
   "outputs": [
    {
     "name": "stdout",
     "output_type": "stream",
     "text": [
      "{\n",
      "    \"data\": {\n",
      "        \"1\": {\n",
      "            \"circulating_supply\": 18772043,\n",
      "            \"id\": 1,\n",
      "            \"last_updated\": 1627721390,\n",
      "            \"max_supply\": 21000000,\n",
      "            \"name\": \"Bitcoin\",\n",
      "            \"quotes\": {\n",
      "                \"USD\": {\n",
      "                    \"market_cap\": 783667380882,\n",
      "                    \"percent_change_1h\": 0.362027150361787,\n",
      "                    \"percent_change_24h\": 7.26771076659367,\n",
      "                    \"percent_change_7d\": 24.7542654135237,\n",
      "                    \"percentage_change_1h\": 0.362027150361787,\n",
      "                    \"percentage_change_24h\": 7.26771076659367,\n",
      "                    \"percentage_change_7d\": 24.7542654135237,\n",
      "                    \"price\": 41737.0,\n",
      "                    \"volume_24h\": 37954901497\n",
      "                }\n",
      "            },\n",
      "            \"rank\": 1,\n",
      "            \"symbol\": \"BTC\",\n",
      "            \"total_supply\": 18772043,\n",
      "            \"website_slug\": \"bitcoin\"\n",
      "        }\n",
      "    },\n",
      "    \"metadata\": {\n",
      "        \"error\": null,\n",
      "        \"num_cryptocurrencies\": 3105,\n",
      "        \"timestamp\": 1627721390\n",
      "    }\n",
      "}\n"
     ]
    }
   ],
   "source": [
    "# Using the Python requests library, make an API call to access the current price of BTC\n",
    "btc_response = requests.get(btc_url).json()\n",
    "\n",
    "# Use the json.dumps function to review the response data from the API call\n",
    "# Use the indent and sort_keys parameters to make the response object readable\n",
    "btc_api_data = json.dumps(btc_response, indent=4, sort_keys=True)\n",
    "print(btc_api_data)"
   ]
  },
  {
   "cell_type": "code",
   "execution_count": 7,
   "metadata": {},
   "outputs": [
    {
     "name": "stdout",
     "output_type": "stream",
     "text": [
      "{\n",
      "    \"data\": {\n",
      "        \"1027\": {\n",
      "            \"circulating_supply\": 116912334,\n",
      "            \"id\": 1027,\n",
      "            \"last_updated\": 1627721391,\n",
      "            \"max_supply\": 0,\n",
      "            \"name\": \"Ethereum\",\n",
      "            \"quotes\": {\n",
      "                \"USD\": {\n",
      "                    \"market_cap\": 287614721516,\n",
      "                    \"percent_change_1h\": 0.794641816076354,\n",
      "                    \"percent_change_24h\": 4.79360095256664,\n",
      "                    \"percent_change_7d\": 16.3162284601759,\n",
      "                    \"percentage_change_1h\": 0.794641816076354,\n",
      "                    \"percentage_change_24h\": 4.79360095256664,\n",
      "                    \"percentage_change_7d\": 16.3162284601759,\n",
      "                    \"price\": 2462.59,\n",
      "                    \"volume_24h\": 23310782671\n",
      "                }\n",
      "            },\n",
      "            \"rank\": 2,\n",
      "            \"symbol\": \"ETH\",\n",
      "            \"total_supply\": 116912334,\n",
      "            \"website_slug\": \"ethereum\"\n",
      "        }\n",
      "    },\n",
      "    \"metadata\": {\n",
      "        \"error\": null,\n",
      "        \"num_cryptocurrencies\": 3105,\n",
      "        \"timestamp\": 1627721391\n",
      "    }\n",
      "}\n"
     ]
    }
   ],
   "source": [
    "# Using the Python requests library, make an API call to access the current price ETH\n",
    "eth_response = requests.get(eth_url).json()\n",
    "\n",
    "# Use the json.dumps function to review the response data from the API call\n",
    "# Use the indent and sort_keys parameters to make the response object readable\n",
    "eth_api_data = json.dumps(eth_response, indent=4, sort_keys=True)\n",
    "print(eth_api_data)\n"
   ]
  },
  {
   "cell_type": "markdown",
   "metadata": {},
   "source": [
    "#### Step 3: Navigate the JSON response object to access the current price of each coin, and store each in a variable."
   ]
  },
  {
   "cell_type": "code",
   "execution_count": 8,
   "metadata": {},
   "outputs": [
    {
     "data": {
      "text/plain": [
       "41937.0"
      ]
     },
     "execution_count": 8,
     "metadata": {},
     "output_type": "execute_result"
    }
   ],
   "source": [
    "# Navigate the BTC response object to access the current price of BTC\n",
    "btc_price = btc_response[\"data\"][\"1\"][\"quotes\"][\"USD\"][\"price\"]\n",
    "\n",
    "# Print the current price of BTC\n",
    "btc_price\n"
   ]
  },
  {
   "cell_type": "code",
   "execution_count": 9,
   "metadata": {},
   "outputs": [
    {
     "data": {
      "text/plain": [
       "2462.95"
      ]
     },
     "execution_count": 9,
     "metadata": {},
     "output_type": "execute_result"
    }
   ],
   "source": [
    "# Navigate the BTC response object to access the current price of ETH\n",
    "eth_price = eth_response[\"data\"][\"1027\"][\"quotes\"][\"USD\"][\"price\"]\n",
    "\n",
    "# Print the current price of ETH\n",
    "eth_price"
   ]
  },
  {
   "cell_type": "markdown",
   "metadata": {},
   "source": [
    "### Step 4: Calculate the value, in US dollars, of the current amount of each cryptocurrency and of the entire cryptocurrency wallet."
   ]
  },
  {
   "cell_type": "code",
   "execution_count": 10,
   "metadata": {},
   "outputs": [
    {
     "data": {
      "text/plain": [
       "50324.4"
      ]
     },
     "execution_count": 10,
     "metadata": {},
     "output_type": "execute_result"
    }
   ],
   "source": [
    "# Compute the current value of the BTC holding \n",
    "btc_value = btc_coins * btc_price\n",
    "\n",
    "# Print current value of your holding in BTC\n",
    "btc_value\n"
   ]
  },
  {
   "cell_type": "code",
   "execution_count": 11,
   "metadata": {},
   "outputs": [
    {
     "data": {
      "text/plain": [
       "13053.634999999998"
      ]
     },
     "execution_count": 11,
     "metadata": {},
     "output_type": "execute_result"
    }
   ],
   "source": [
    "# Compute the current value of the ETH holding \n",
    "eth_value = eth_coins * eth_price\n",
    "\n",
    "# Print current value of your holding in ETH\n",
    "eth_value\n"
   ]
  },
  {
   "cell_type": "code",
   "execution_count": 12,
   "metadata": {},
   "outputs": [
    {
     "data": {
      "text/plain": [
       "63378.035"
      ]
     },
     "execution_count": 12,
     "metadata": {},
     "output_type": "execute_result"
    }
   ],
   "source": [
    "# Compute the total value of the cryptocurrency wallet\n",
    "# Add the value of the BTC holding to the value of the ETH holding\n",
    "total_crypto_wallet = btc_value + eth_value\n",
    "\n",
    "# Print current cryptocurrency wallet balance\n",
    "total_crypto_wallet\n"
   ]
  },
  {
   "cell_type": "markdown",
   "metadata": {},
   "source": [
    "### Evaluate the Stock and Bond Holdings by Using the Alpaca SDK\n",
    "\n",
    "In this section, you’ll determine the current value of a member’s stock and bond holdings. You’ll make an API call to Alpaca via the Alpaca SDK to get the current closing prices of the SPDR S&P 500 ETF Trust (ticker: SPY) and of the iShares Core US Aggregate Bond ETF (ticker: AGG). For the prototype, assume that the member holds 110 shares of SPY, which represents the stock portion of their portfolio, and 200 shares of AGG, which represents the bond portion. To do all this, complete the following steps:\n",
    "\n",
    "1. In the `Starter_Code` folder, create an environment file (`.env`) to store the values of your Alpaca API key and Alpaca secret key.\n",
    "\n",
    "2. Set the variables for the Alpaca API and secret keys. Using the Alpaca SDK, create the Alpaca `tradeapi.REST` object. In this object, include the parameters for the Alpaca API key, the secret key, and the version number.\n",
    "\n",
    "3. Set the following parameters for the Alpaca API call:\n",
    "\n",
    "    - `tickers`: Use the tickers for the member’s stock and bond holdings.\n",
    "\n",
    "    - `timeframe`: Use a time frame of one day.\n",
    "\n",
    "    - `start_date` and `end_date`: Use the same date for these parameters, and format them with the date of the previous weekday (or `2020-08-07`). This is because you want the one closing price for the most-recent trading day.\n",
    "\n",
    "4. Get the current closing prices for `SPY` and `AGG` by using the Alpaca `get_barset` function. Format the response as a Pandas DataFrame by including the `df` property at the end of the `get_barset` function.\n",
    "\n",
    "5. Navigating the Alpaca response DataFrame, select the `SPY` and `AGG` closing prices, and store them as variables.\n",
    "\n",
    "6. Calculate the value, in US dollars, of the current amount of shares in each of the stock and bond portions of the portfolio, and print the results.\n"
   ]
  },
  {
   "cell_type": "markdown",
   "metadata": {},
   "source": [
    "#### Review the total number of shares held in both (SPY) and (AGG)."
   ]
  },
  {
   "cell_type": "code",
   "execution_count": 18,
   "metadata": {},
   "outputs": [],
   "source": [
    "# Current amount of shares held in both the stock (SPY) and bond (AGG) portion of the portfolio.\n",
    "spy_shares = 110\n",
    "agg_shares = 200\n"
   ]
  },
  {
   "cell_type": "markdown",
   "metadata": {},
   "source": [
    "#### Step 1: In the `Starter_Code` folder, create an environment file (`.env`) to store the values of your Alpaca API key and Alpaca secret key."
   ]
  },
  {
   "cell_type": "markdown",
   "metadata": {},
   "source": [
    "#### Step 2: Set the variables for the Alpaca API and secret keys. Using the Alpaca SDK, create the Alpaca `tradeapi.REST` object. In this object, include the parameters for the Alpaca API key, the secret key, and the version number."
   ]
  },
  {
   "cell_type": "code",
   "execution_count": 19,
   "metadata": {},
   "outputs": [],
   "source": [
    "# Set the variables for the Alpaca API and secret keys\n",
    "ALPACA_API_KEY = os.getenv(\"ALPACA_API_KEY\")\n",
    "ALPACA_SECRET_KEY= os.getenv(\"ALPACA_SECRET_KEY\")\n",
    "# YOUR CODE HERE\n",
    "\n",
    "# Create the Alpaca tradeapi.REST object\n",
    "trade_api = tradeapi.rest.REST(ALPACA_API_KEY,ALPACA_SECRET_KEY,api_version=\"v2\")"
   ]
  },
  {
   "cell_type": "markdown",
   "metadata": {},
   "source": [
    "#### Step 3: Set the following parameters for the Alpaca API call:\n",
    "\n",
    "- `tickers`: Use the tickers for the member’s stock and bond holdings.\n",
    "\n",
    "- `timeframe`: Use a time frame of one day.\n",
    "\n",
    "- `start_date` and `end_date`: Use the same date for these parameters, and format them with the date of the previous weekday (or `2020-08-07`). This is because you want the one closing price for the most-recent trading day.\n"
   ]
  },
  {
   "cell_type": "code",
   "execution_count": 20,
   "metadata": {},
   "outputs": [],
   "source": [
    "# Set the tickers for both the bond and stock portion of the portfolio\n",
    "tickers = [\"SPY\",\"AGG\"] \n",
    "\n",
    "\n",
    "# Set timeframe to 1D \n",
    "timeframe = \"1D\"\n",
    "# Format current date as ISO format\n",
    "# Set both the start and end date at the date of your prior weekday \n",
    "# This will give you the closing price of the previous trading day\n",
    "# Alternatively you can use a start and end date of 2020-08-07\n",
    "start = pd.Timestamp(\"2020-08-07\", tz=\"America/New_York\").isoformat()\n",
    "end = pd.Timestamp(\"2021-08-07\", tz=\"America/New_York\").isoformat()"
   ]
  },
  {
   "cell_type": "markdown",
   "metadata": {},
   "source": [
    "#### Step 4: Get the current closing prices for `SPY` and `AGG` by using the Alpaca `get_barset` function. Format the response as a Pandas DataFrame by including the `df` property at the end of the `get_barset` function."
   ]
  },
  {
   "cell_type": "code",
   "execution_count": 21,
   "metadata": {},
   "outputs": [
    {
     "data": {
      "text/html": [
       "<div>\n",
       "<style scoped>\n",
       "    .dataframe tbody tr th:only-of-type {\n",
       "        vertical-align: middle;\n",
       "    }\n",
       "\n",
       "    .dataframe tbody tr th {\n",
       "        vertical-align: top;\n",
       "    }\n",
       "\n",
       "    .dataframe thead tr th {\n",
       "        text-align: left;\n",
       "    }\n",
       "\n",
       "    .dataframe thead tr:last-of-type th {\n",
       "        text-align: right;\n",
       "    }\n",
       "</style>\n",
       "<table border=\"1\" class=\"dataframe\">\n",
       "  <thead>\n",
       "    <tr>\n",
       "      <th></th>\n",
       "      <th colspan=\"5\" halign=\"left\">AGG</th>\n",
       "      <th colspan=\"5\" halign=\"left\">SPY</th>\n",
       "    </tr>\n",
       "    <tr>\n",
       "      <th></th>\n",
       "      <th>open</th>\n",
       "      <th>high</th>\n",
       "      <th>low</th>\n",
       "      <th>close</th>\n",
       "      <th>volume</th>\n",
       "      <th>open</th>\n",
       "      <th>high</th>\n",
       "      <th>low</th>\n",
       "      <th>close</th>\n",
       "      <th>volume</th>\n",
       "    </tr>\n",
       "    <tr>\n",
       "      <th>time</th>\n",
       "      <th></th>\n",
       "      <th></th>\n",
       "      <th></th>\n",
       "      <th></th>\n",
       "      <th></th>\n",
       "      <th></th>\n",
       "      <th></th>\n",
       "      <th></th>\n",
       "      <th></th>\n",
       "      <th></th>\n",
       "    </tr>\n",
       "  </thead>\n",
       "  <tbody>\n",
       "    <tr>\n",
       "      <th>2021-03-10 00:00:00-05:00</th>\n",
       "      <td>114.30</td>\n",
       "      <td>114.500</td>\n",
       "      <td>114.275</td>\n",
       "      <td>114.45</td>\n",
       "      <td>6270242</td>\n",
       "      <td>389.69</td>\n",
       "      <td>391.400</td>\n",
       "      <td>388.1702</td>\n",
       "      <td>389.5199</td>\n",
       "      <td>101349197</td>\n",
       "    </tr>\n",
       "    <tr>\n",
       "      <th>2021-03-11 00:00:00-05:00</th>\n",
       "      <td>114.47</td>\n",
       "      <td>114.540</td>\n",
       "      <td>114.295</td>\n",
       "      <td>114.44</td>\n",
       "      <td>5740793</td>\n",
       "      <td>392.23</td>\n",
       "      <td>395.650</td>\n",
       "      <td>391.7400</td>\n",
       "      <td>393.5000</td>\n",
       "      <td>77022138</td>\n",
       "    </tr>\n",
       "    <tr>\n",
       "      <th>2021-03-12 00:00:00-05:00</th>\n",
       "      <td>113.88</td>\n",
       "      <td>113.910</td>\n",
       "      <td>113.705</td>\n",
       "      <td>113.79</td>\n",
       "      <td>4339393</td>\n",
       "      <td>392.07</td>\n",
       "      <td>394.210</td>\n",
       "      <td>391.2000</td>\n",
       "      <td>394.0900</td>\n",
       "      <td>56997361</td>\n",
       "    </tr>\n",
       "    <tr>\n",
       "      <th>2021-03-15 00:00:00-04:00</th>\n",
       "      <td>113.60</td>\n",
       "      <td>114.010</td>\n",
       "      <td>113.600</td>\n",
       "      <td>113.94</td>\n",
       "      <td>4210749</td>\n",
       "      <td>394.33</td>\n",
       "      <td>396.685</td>\n",
       "      <td>392.0300</td>\n",
       "      <td>396.4700</td>\n",
       "      <td>64471980</td>\n",
       "    </tr>\n",
       "    <tr>\n",
       "      <th>2021-03-16 00:00:00-04:00</th>\n",
       "      <td>113.97</td>\n",
       "      <td>114.032</td>\n",
       "      <td>113.780</td>\n",
       "      <td>113.87</td>\n",
       "      <td>3977851</td>\n",
       "      <td>397.07</td>\n",
       "      <td>397.830</td>\n",
       "      <td>395.0800</td>\n",
       "      <td>395.9400</td>\n",
       "      <td>65719794</td>\n",
       "    </tr>\n",
       "  </tbody>\n",
       "</table>\n",
       "</div>"
      ],
      "text/plain": [
       "                              AGG                                        SPY  \\\n",
       "                             open     high      low   close   volume    open   \n",
       "time                                                                           \n",
       "2021-03-10 00:00:00-05:00  114.30  114.500  114.275  114.45  6270242  389.69   \n",
       "2021-03-11 00:00:00-05:00  114.47  114.540  114.295  114.44  5740793  392.23   \n",
       "2021-03-12 00:00:00-05:00  113.88  113.910  113.705  113.79  4339393  392.07   \n",
       "2021-03-15 00:00:00-04:00  113.60  114.010  113.600  113.94  4210749  394.33   \n",
       "2021-03-16 00:00:00-04:00  113.97  114.032  113.780  113.87  3977851  397.07   \n",
       "\n",
       "                                                                   \n",
       "                              high       low     close     volume  \n",
       "time                                                               \n",
       "2021-03-10 00:00:00-05:00  391.400  388.1702  389.5199  101349197  \n",
       "2021-03-11 00:00:00-05:00  395.650  391.7400  393.5000   77022138  \n",
       "2021-03-12 00:00:00-05:00  394.210  391.2000  394.0900   56997361  \n",
       "2021-03-15 00:00:00-04:00  396.685  392.0300  396.4700   64471980  \n",
       "2021-03-16 00:00:00-04:00  397.830  395.0800  395.9400   65719794  "
      ]
     },
     "execution_count": 21,
     "metadata": {},
     "output_type": "execute_result"
    }
   ],
   "source": [
    "# Use the Alpaca get_barset function to get current closing prices the portfolio\n",
    "# Be sure to set the `df` property after the function to format the response object as a DataFrame\n",
    "portfolio_df=trade_api.get_barset(tickers,timeframe,start=start,end=end).df\n",
    "\n",
    "# Review the first 5 rows of the Alpaca DataFrame\n",
    "portfolio_df.head()\n"
   ]
  },
  {
   "cell_type": "markdown",
   "metadata": {},
   "source": [
    "#### Step 5: Navigating the Alpaca response DataFrame, select the `SPY` and `AGG` closing prices, and store them as variables."
   ]
  },
  {
   "cell_type": "code",
   "execution_count": 53,
   "metadata": {},
   "outputs": [
    {
     "data": {
      "text/plain": [
       "time\n",
       "2021-03-10 00:00:00-05:00    114.45\n",
       "2021-03-11 00:00:00-05:00    114.44\n",
       "2021-03-12 00:00:00-05:00    113.79\n",
       "2021-03-15 00:00:00-04:00    113.94\n",
       "2021-03-16 00:00:00-04:00    113.87\n",
       "                              ...  \n",
       "2021-07-26 00:00:00-04:00    116.11\n",
       "2021-07-27 00:00:00-04:00    116.39\n",
       "2021-07-28 00:00:00-04:00    116.48\n",
       "2021-07-29 00:00:00-04:00    116.28\n",
       "2021-07-30 00:00:00-04:00    116.45\n",
       "Name: close, Length: 100, dtype: float64"
      ]
     },
     "execution_count": 53,
     "metadata": {},
     "output_type": "execute_result"
    }
   ],
   "source": [
    "# Access the closing price for AGG from the Alpaca DataFrame\n",
    "# Converting the value to a floating point number\n",
    "agg_close_price = portfolio_df[\"AGG\"][\"close\"]\n",
    "\n",
    "\n",
    "\n",
    "# Print the AGG closing price\n",
    "agg_close_price\n"
   ]
  },
  {
   "cell_type": "code",
   "execution_count": 54,
   "metadata": {},
   "outputs": [
    {
     "data": {
      "text/plain": [
       "time\n",
       "2021-03-10 00:00:00-05:00    389.5199\n",
       "2021-03-11 00:00:00-05:00    393.5000\n",
       "2021-03-12 00:00:00-05:00    394.0900\n",
       "2021-03-15 00:00:00-04:00    396.4700\n",
       "2021-03-16 00:00:00-04:00    395.9400\n",
       "                               ...   \n",
       "2021-07-26 00:00:00-04:00    440.9900\n",
       "2021-07-27 00:00:00-04:00    439.0000\n",
       "2021-07-28 00:00:00-04:00    438.8400\n",
       "2021-07-29 00:00:00-04:00    440.6700\n",
       "2021-07-30 00:00:00-04:00    438.4900\n",
       "Name: close, Length: 100, dtype: float64"
      ]
     },
     "execution_count": 54,
     "metadata": {},
     "output_type": "execute_result"
    }
   ],
   "source": [
    "# Access the closing price for SPY from the Alpaca DataFrame\n",
    "# Converting the value to a floating point number\n",
    "spy_close_price = portfolio_df[\"SPY\"][\"close\"]\n",
    "\n",
    "# Print the SPY closing price\n",
    "spy_close_price\n"
   ]
  },
  {
   "cell_type": "markdown",
   "metadata": {},
   "source": [
    "#### Step 6: Calculate the value, in US dollars, of the current amount of shares in each of the stock and bond portions of the portfolio, and print the results."
   ]
  },
  {
   "cell_type": "code",
   "execution_count": 55,
   "metadata": {},
   "outputs": [
    {
     "data": {
      "text/plain": [
       "23290.0"
      ]
     },
     "execution_count": 55,
     "metadata": {},
     "output_type": "execute_result"
    }
   ],
   "source": [
    "# Calculate the current value of the bond portion of the portfolio\n",
    "agg_value = agg_close_price [-1] * agg_shares\n",
    "\n",
    "# Print the current value of the bond portfolio\n",
    "agg_value\n"
   ]
  },
  {
   "cell_type": "code",
   "execution_count": 56,
   "metadata": {},
   "outputs": [
    {
     "data": {
      "text/plain": [
       "48233.9"
      ]
     },
     "execution_count": 56,
     "metadata": {},
     "output_type": "execute_result"
    }
   ],
   "source": [
    "# Calculate the current value of the stock portion of the portfolio\n",
    "spy_value = spy_close_price [-1] * spy_shares\n",
    "\n",
    "# Print the current value of the stock portfolio\n",
    "spy_value\n"
   ]
  },
  {
   "cell_type": "code",
   "execution_count": 61,
   "metadata": {},
   "outputs": [
    {
     "data": {
      "text/plain": [
       "71523.9"
      ]
     },
     "execution_count": 61,
     "metadata": {},
     "output_type": "execute_result"
    }
   ],
   "source": [
    "# Calculate the total value of the stock and bond portion of the portfolio\n",
    "total_stocks_bonds= agg_value + spy_value\n",
    "\n",
    "# Print the current balance of the stock and bond portion of the portfolio\n",
    "total_stocks_bonds\n"
   ]
  },
  {
   "cell_type": "code",
   "execution_count": 62,
   "metadata": {},
   "outputs": [
    {
     "data": {
      "text/plain": [
       "134901.935"
      ]
     },
     "execution_count": 62,
     "metadata": {},
     "output_type": "execute_result"
    }
   ],
   "source": [
    "# Calculate the total value of the member's entire savings portfolio\n",
    "# Add the value of the cryptocurrency walled to the value of the total stocks and bonds\n",
    "total_portfolio = total_crypto_wallet + total_stocks_bonds\n",
    "\n",
    "# Print current cryptocurrency wallet balance\n",
    "total_portfolio\n"
   ]
  },
  {
   "cell_type": "markdown",
   "metadata": {},
   "source": [
    "### Evaluate the Emergency Fund\n",
    "\n",
    "In this section, you’ll use the valuations for the cryptocurrency wallet and for the stock and bond portions of the portfolio to determine if the credit union member has enough savings to build an emergency fund into their financial plan. To do this, complete the following steps:\n",
    "\n",
    "1. Create a Python list named `savings_data` that has two elements. The first element contains the total value of the cryptocurrency wallet. The second element contains the total value of the stock and bond portions of the portfolio.\n",
    "\n",
    "2. Use the `savings_data` list to create a Pandas DataFrame named `savings_df`, and then display this DataFrame. The function to create the DataFrame should take the following three parameters:\n",
    "\n",
    "    - `savings_data`: Use the list that you just created.\n",
    "\n",
    "    - `columns`: Set this parameter equal to a Python list with a single value called `amount`.\n",
    "\n",
    "    - `index`: Set this parameter equal to a Python list with the values of `crypto` and `stock/bond`.\n",
    "\n",
    "3. Use the `savings_df` DataFrame to plot a pie chart that visualizes the composition of the member’s portfolio. The y-axis of the pie chart uses `amount`. Be sure to add a title.\n",
    "\n",
    "4. Using Python, determine if the current portfolio has enough to create an emergency fund as part of the member’s financial plan. Ideally, an emergency fund should equal to three times the member’s monthly income. To do this, implement the following steps:\n",
    "\n",
    "    1. Create a variable named `emergency_fund_value`, and set it equal to three times the value of the member’s `monthly_income` of $12000. (You set this earlier in Part 1).\n",
    "\n",
    "    2. Create a series of three if statements to determine if the member’s total portfolio is large enough to fund the emergency portfolio:\n",
    "\n",
    "        1. If the total portfolio value is greater than the emergency fund value, display a message congratulating the member for having enough money in this fund.\n",
    "\n",
    "        2. Else if the total portfolio value is equal to the emergency fund value, display a message congratulating the member on reaching this important financial goal.\n",
    "\n",
    "        3. Else the total portfolio is less than the emergency fund value, so display a message showing how many dollars away the member is from reaching the goal. (Subtract the total portfolio value from the emergency fund value.)\n"
   ]
  },
  {
   "cell_type": "markdown",
   "metadata": {},
   "source": [
    "#### Step 1: Create a Python list named `savings_data` that has two elements. The first element contains the total value of the cryptocurrency wallet. The second element contains the total value of the stock and bond portions of the portfolio."
   ]
  },
  {
   "cell_type": "code",
   "execution_count": 63,
   "metadata": {},
   "outputs": [
    {
     "data": {
      "text/plain": [
       "[63378.035, 71523.9]"
      ]
     },
     "execution_count": 63,
     "metadata": {},
     "output_type": "execute_result"
    }
   ],
   "source": [
    "# Consolidate financial assets data into a Python list\n",
    "savings_data = [total_crypto_wallet, total_stocks_bonds]\n",
    "\n",
    "# Review the Python list savings_data\n",
    "savings_data\n",
    "    "
   ]
  },
  {
   "cell_type": "markdown",
   "metadata": {},
   "source": [
    "#### Step 2: Use the `savings_data` list to create a Pandas DataFrame named `savings_df`, and then display this DataFrame. The function to create the DataFrame should take the following three parameters:\n",
    "\n",
    "- `savings_data`: Use the list that you just created.\n",
    "\n",
    "- `columns`: Set this parameter equal to a Python list with a single value called `amount`.\n",
    "\n",
    "- `index`: Set this parameter equal to a Python list with the values of `crypto` and `stock/bond`.\n"
   ]
  },
  {
   "cell_type": "code",
   "execution_count": 65,
   "metadata": {},
   "outputs": [
    {
     "data": {
      "text/html": [
       "<div>\n",
       "<style scoped>\n",
       "    .dataframe tbody tr th:only-of-type {\n",
       "        vertical-align: middle;\n",
       "    }\n",
       "\n",
       "    .dataframe tbody tr th {\n",
       "        vertical-align: top;\n",
       "    }\n",
       "\n",
       "    .dataframe thead th {\n",
       "        text-align: right;\n",
       "    }\n",
       "</style>\n",
       "<table border=\"1\" class=\"dataframe\">\n",
       "  <thead>\n",
       "    <tr style=\"text-align: right;\">\n",
       "      <th></th>\n",
       "      <th>amount</th>\n",
       "    </tr>\n",
       "  </thead>\n",
       "  <tbody>\n",
       "    <tr>\n",
       "      <th>crypto</th>\n",
       "      <td>63378.035</td>\n",
       "    </tr>\n",
       "    <tr>\n",
       "      <th>stock/bond</th>\n",
       "      <td>71523.900</td>\n",
       "    </tr>\n",
       "  </tbody>\n",
       "</table>\n",
       "</div>"
      ],
      "text/plain": [
       "               amount\n",
       "crypto      63378.035\n",
       "stock/bond  71523.900"
      ]
     },
     "execution_count": 65,
     "metadata": {},
     "output_type": "execute_result"
    }
   ],
   "source": [
    "# Create a Pandas DataFrame called savings_df \n",
    "savings_df = pd.DataFrame(savings_data, columns = [\"amount\"],index=[\"crypto\",\"stock/bond\"])\n",
    "# Display the savings_df DataFrame\n",
    "savings_df\n"
   ]
  },
  {
   "cell_type": "markdown",
   "metadata": {},
   "source": [
    "#### Step 3: Use the `savings_df` DataFrame to plot a pie chart that visualizes the composition of the member’s portfolio. The y-axis of the pie chart uses `amount`. Be sure to add a title."
   ]
  },
  {
   "cell_type": "code",
   "execution_count": 72,
   "metadata": {},
   "outputs": [
    {
     "data": {
      "text/plain": [
       "<AxesSubplot:title={'center':'portfolio'}, ylabel='amount'>"
      ]
     },
     "execution_count": 72,
     "metadata": {},
     "output_type": "execute_result"
    },
    {
     "data": {
      "image/png": "[encoded data removed]",
      "text/plain": [
       "<Figure size 720x720 with 1 Axes>"
      ]
     },
     "metadata": {},
     "output_type": "display_data"
    }
   ],
   "source": [
    "# Plot the total value of the member's portfolio (crypto and stock/bond) in a pie chart\n",
    "savings_df.plot(title=\"portfolio\", y='amount', kind=\"pie\",figsize = (10,10))\n"
   ]
  },
  {
   "cell_type": "markdown",
   "metadata": {},
   "source": [
    "#### Step 4: Using Python, determine if the current portfolio has enough to create an emergency fund as part of the member’s financial plan. Ideally, an emergency fund should equal to three times the member’s monthly income. To do this, implement the following steps:\n",
    "\n",
    "Step 1. Create a variable named `emergency_fund_value`, and set it equal to three times the value of the member’s `monthly_income` of 12000. (You set this earlier in Part 1).\n",
    "\n",
    "Step 2. Create a series of three if statements to determine if the member’s total portfolio is large enough to fund the emergency portfolio:\n",
    "\n",
    "* If the total portfolio value is greater than the emergency fund value, display a message congratulating the member for having enough money in this fund.\n",
    "\n",
    "* Else if the total portfolio value is equal to the emergency fund value, display a message congratulating the member on reaching this important financial goal.\n",
    "\n",
    "* Else the total portfolio is less than the emergency fund value, so display a message showing how many dollars away the member is from reaching the goal. (Subtract the total portfolio value from the emergency fund value.)\n"
   ]
  },
  {
   "cell_type": "markdown",
   "metadata": {},
   "source": [
    "##### Step 4-1: Create a variable named `emergency_fund_value`, and set it equal to three times the value of the member’s `monthly_income` of 12000. (You set this earlier in Part 1)."
   ]
  },
  {
   "cell_type": "code",
   "execution_count": 73,
   "metadata": {},
   "outputs": [],
   "source": [
    "# Create a variable named emergency_fund_value\n",
    "monthly_income = 12000\n",
    "emergency_fund = 3 * monthly_income\n",
    "\n"
   ]
  },
  {
   "cell_type": "markdown",
   "metadata": {},
   "source": [
    "##### Step 4-2: Create a series of three if statements to determine if the member’s total portfolio is large enough to fund the emergency portfolio:\n",
    "\n",
    "* If the total portfolio value is greater than the emergency fund value, display a message congratulating the member for having enough money in this fund.\n",
    "\n",
    "* Else if the total portfolio value is equal to the emergency fund value, display a message congratulating the member on reaching this important financial goal.\n",
    "\n",
    "* Else the total portfolio is less than the emergency fund value, so display a message showing how many dollars away the member is from reaching the goal. (Subtract the total portfolio value from the emergency fund value.)"
   ]
  },
  {
   "cell_type": "code",
   "execution_count": 80,
   "metadata": {},
   "outputs": [
    {
     "name": "stdout",
     "output_type": "stream",
     "text": [
      "congratuation! You have enough money in this fund\n"
     ]
    }
   ],
   "source": [
    "# Evaluate the possibility of creating an emergency fund with 3 conditions:\n",
    "if total_portfolio > emergency_fund:\n",
    "    print(\"congratuation! You have enough money in this fund\")\n",
    "elif total_portfolio == emergency_fund:\n",
    "    print(\"Congratuation! You have reached important financial goal\")\n",
    "else :\n",
    "    print(\"you need more money, you are ${} short.\".format(emergency_fund - total_portfolio))"
   ]
  },
  {
   "cell_type": "markdown",
   "metadata": {},
   "source": [
    "## Part 2: Create a Financial Planner for Retirement"
   ]
  },
  {
   "cell_type": "markdown",
   "metadata": {},
   "source": [
    "### Create the Monte Carlo Simulation\n",
    "\n",
    "In this section, you’ll use the MCForecastTools library to create a Monte Carlo simulation for the member’s savings portfolio. To do this, complete the following steps:\n",
    "\n",
    "1. Make an API call via the Alpaca SDK to get 3 years of historical closing prices for a traditional 60/40 portfolio split: 60% stocks (SPY) and 40% bonds (AGG).\n",
    "\n",
    "2. Run a Monte Carlo simulation of 500 samples and 30 years for the 60/40 portfolio, and then plot the results.The following image shows the overlay line plot resulting from a simulation with these characteristics. However, because a random number generator is used to run each live Monte Carlo simulation, your image will differ slightly from this exact image:\n",
    "\n",
    "![A screenshot depicts the resulting plot.](Images/5-4-monte-carlo-line-plot.png)\n",
    "\n",
    "3. Plot the probability distribution of the Monte Carlo simulation. Plot the probability distribution of the Monte Carlo simulation. The following image shows the histogram plot resulting from a simulation with these characteristics. However, because a random number generator is used to run each live Monte Carlo simulation, your image will differ slightly from this exact image:\n",
    "\n",
    "![A screenshot depicts the histogram plot.](Images/5-4-monte-carlo-histogram.png)\n",
    "\n",
    "4. Generate the summary statistics for the Monte Carlo simulation.\n",
    "\n"
   ]
  },
  {
   "cell_type": "markdown",
   "metadata": {},
   "source": [
    "#### Step 1: Make an API call via the Alpaca SDK to get 3 years of historical closing prices for a traditional 60/40 portfolio split: 60% stocks (SPY) and 40% bonds (AGG)."
   ]
  },
  {
   "cell_type": "code",
   "execution_count": 81,
   "metadata": {},
   "outputs": [],
   "source": [
    "# Set start and end dates of 3 years back from your current date\n",
    "# Alternatively, you can use an end date of 2020-08-07 and work 3 years back from that date \n",
    "start_date = pd.Timestamp(\"2018-08-07\", tz=\"America/New_York\").isoformat()\n",
    "end_date = pd.Timestamp(\"2021-08-07\", tz=\"America/New_York\").isoformat()\n",
    "\n",
    "# Set number of rows to 1000 to retrieve the maximum amount of rows\n",
    "rows = 1000"
   ]
  },
  {
   "cell_type": "code",
   "execution_count": 88,
   "metadata": {},
   "outputs": [
    {
     "data": {
      "text/html": [
       "<div>\n",
       "<style scoped>\n",
       "    .dataframe tbody tr th:only-of-type {\n",
       "        vertical-align: middle;\n",
       "    }\n",
       "\n",
       "    .dataframe tbody tr th {\n",
       "        vertical-align: top;\n",
       "    }\n",
       "\n",
       "    .dataframe thead tr th {\n",
       "        text-align: left;\n",
       "    }\n",
       "\n",
       "    .dataframe thead tr:last-of-type th {\n",
       "        text-align: right;\n",
       "    }\n",
       "</style>\n",
       "<table border=\"1\" class=\"dataframe\">\n",
       "  <thead>\n",
       "    <tr>\n",
       "      <th></th>\n",
       "      <th colspan=\"5\" halign=\"left\">AGG</th>\n",
       "      <th colspan=\"5\" halign=\"left\">SPY</th>\n",
       "    </tr>\n",
       "    <tr>\n",
       "      <th></th>\n",
       "      <th>open</th>\n",
       "      <th>high</th>\n",
       "      <th>low</th>\n",
       "      <th>close</th>\n",
       "      <th>volume</th>\n",
       "      <th>open</th>\n",
       "      <th>high</th>\n",
       "      <th>low</th>\n",
       "      <th>close</th>\n",
       "      <th>volume</th>\n",
       "    </tr>\n",
       "    <tr>\n",
       "      <th>time</th>\n",
       "      <th></th>\n",
       "      <th></th>\n",
       "      <th></th>\n",
       "      <th></th>\n",
       "      <th></th>\n",
       "      <th></th>\n",
       "      <th></th>\n",
       "      <th></th>\n",
       "      <th></th>\n",
       "      <th></th>\n",
       "    </tr>\n",
       "  </thead>\n",
       "  <tbody>\n",
       "    <tr>\n",
       "      <th>2018-08-07 00:00:00-04:00</th>\n",
       "      <td>105.97</td>\n",
       "      <td>105.97</td>\n",
       "      <td>105.8250</td>\n",
       "      <td>105.840</td>\n",
       "      <td>2368151</td>\n",
       "      <td>285.39</td>\n",
       "      <td>286.010</td>\n",
       "      <td>285.240</td>\n",
       "      <td>285.54</td>\n",
       "      <td>32455420</td>\n",
       "    </tr>\n",
       "    <tr>\n",
       "      <th>2018-08-08 00:00:00-04:00</th>\n",
       "      <td>105.83</td>\n",
       "      <td>105.91</td>\n",
       "      <td>105.8000</td>\n",
       "      <td>105.845</td>\n",
       "      <td>1613011</td>\n",
       "      <td>285.39</td>\n",
       "      <td>285.910</td>\n",
       "      <td>284.940</td>\n",
       "      <td>285.42</td>\n",
       "      <td>29142601</td>\n",
       "    </tr>\n",
       "    <tr>\n",
       "      <th>2018-08-09 00:00:00-04:00</th>\n",
       "      <td>105.97</td>\n",
       "      <td>106.04</td>\n",
       "      <td>105.9329</td>\n",
       "      <td>106.030</td>\n",
       "      <td>2168479</td>\n",
       "      <td>285.53</td>\n",
       "      <td>285.970</td>\n",
       "      <td>284.915</td>\n",
       "      <td>285.06</td>\n",
       "      <td>24338809</td>\n",
       "    </tr>\n",
       "    <tr>\n",
       "      <th>2018-08-10 00:00:00-04:00</th>\n",
       "      <td>106.11</td>\n",
       "      <td>106.36</td>\n",
       "      <td>106.1100</td>\n",
       "      <td>106.230</td>\n",
       "      <td>2555922</td>\n",
       "      <td>283.45</td>\n",
       "      <td>284.055</td>\n",
       "      <td>282.360</td>\n",
       "      <td>283.12</td>\n",
       "      <td>56622478</td>\n",
       "    </tr>\n",
       "    <tr>\n",
       "      <th>2018-08-13 00:00:00-04:00</th>\n",
       "      <td>106.16</td>\n",
       "      <td>106.30</td>\n",
       "      <td>106.1501</td>\n",
       "      <td>106.285</td>\n",
       "      <td>2558386</td>\n",
       "      <td>283.47</td>\n",
       "      <td>284.160</td>\n",
       "      <td>281.770</td>\n",
       "      <td>282.05</td>\n",
       "      <td>49247799</td>\n",
       "    </tr>\n",
       "  </tbody>\n",
       "</table>\n",
       "</div>"
      ],
      "text/plain": [
       "                              AGG                                         SPY  \\\n",
       "                             open    high       low    close   volume    open   \n",
       "time                                                                            \n",
       "2018-08-07 00:00:00-04:00  105.97  105.97  105.8250  105.840  2368151  285.39   \n",
       "2018-08-08 00:00:00-04:00  105.83  105.91  105.8000  105.845  1613011  285.39   \n",
       "2018-08-09 00:00:00-04:00  105.97  106.04  105.9329  106.030  2168479  285.53   \n",
       "2018-08-10 00:00:00-04:00  106.11  106.36  106.1100  106.230  2555922  283.45   \n",
       "2018-08-13 00:00:00-04:00  106.16  106.30  106.1501  106.285  2558386  283.47   \n",
       "\n",
       "                                                               \n",
       "                              high      low   close    volume  \n",
       "time                                                           \n",
       "2018-08-07 00:00:00-04:00  286.010  285.240  285.54  32455420  \n",
       "2018-08-08 00:00:00-04:00  285.910  284.940  285.42  29142601  \n",
       "2018-08-09 00:00:00-04:00  285.970  284.915  285.06  24338809  \n",
       "2018-08-10 00:00:00-04:00  284.055  282.360  283.12  56622478  \n",
       "2018-08-13 00:00:00-04:00  284.160  281.770  282.05  49247799  "
      ]
     },
     "metadata": {},
     "output_type": "display_data"
    },
    {
     "data": {
      "text/html": [
       "<div>\n",
       "<style scoped>\n",
       "    .dataframe tbody tr th:only-of-type {\n",
       "        vertical-align: middle;\n",
       "    }\n",
       "\n",
       "    .dataframe tbody tr th {\n",
       "        vertical-align: top;\n",
       "    }\n",
       "\n",
       "    .dataframe thead tr th {\n",
       "        text-align: left;\n",
       "    }\n",
       "\n",
       "    .dataframe thead tr:last-of-type th {\n",
       "        text-align: right;\n",
       "    }\n",
       "</style>\n",
       "<table border=\"1\" class=\"dataframe\">\n",
       "  <thead>\n",
       "    <tr>\n",
       "      <th></th>\n",
       "      <th colspan=\"5\" halign=\"left\">AGG</th>\n",
       "      <th colspan=\"5\" halign=\"left\">SPY</th>\n",
       "    </tr>\n",
       "    <tr>\n",
       "      <th></th>\n",
       "      <th>open</th>\n",
       "      <th>high</th>\n",
       "      <th>low</th>\n",
       "      <th>close</th>\n",
       "      <th>volume</th>\n",
       "      <th>open</th>\n",
       "      <th>high</th>\n",
       "      <th>low</th>\n",
       "      <th>close</th>\n",
       "      <th>volume</th>\n",
       "    </tr>\n",
       "    <tr>\n",
       "      <th>time</th>\n",
       "      <th></th>\n",
       "      <th></th>\n",
       "      <th></th>\n",
       "      <th></th>\n",
       "      <th></th>\n",
       "      <th></th>\n",
       "      <th></th>\n",
       "      <th></th>\n",
       "      <th></th>\n",
       "      <th></th>\n",
       "    </tr>\n",
       "  </thead>\n",
       "  <tbody>\n",
       "    <tr>\n",
       "      <th>2021-07-26 00:00:00-04:00</th>\n",
       "      <td>116.30</td>\n",
       "      <td>116.330</td>\n",
       "      <td>116.0850</td>\n",
       "      <td>116.11</td>\n",
       "      <td>7028009</td>\n",
       "      <td>439.31</td>\n",
       "      <td>441.03</td>\n",
       "      <td>439.26</td>\n",
       "      <td>440.99</td>\n",
       "      <td>40155852</td>\n",
       "    </tr>\n",
       "    <tr>\n",
       "      <th>2021-07-27 00:00:00-04:00</th>\n",
       "      <td>116.35</td>\n",
       "      <td>116.400</td>\n",
       "      <td>116.2727</td>\n",
       "      <td>116.39</td>\n",
       "      <td>4669859</td>\n",
       "      <td>439.91</td>\n",
       "      <td>439.94</td>\n",
       "      <td>435.99</td>\n",
       "      <td>439.00</td>\n",
       "      <td>61032234</td>\n",
       "    </tr>\n",
       "    <tr>\n",
       "      <th>2021-07-28 00:00:00-04:00</th>\n",
       "      <td>116.24</td>\n",
       "      <td>116.490</td>\n",
       "      <td>116.1400</td>\n",
       "      <td>116.48</td>\n",
       "      <td>5189696</td>\n",
       "      <td>439.68</td>\n",
       "      <td>440.30</td>\n",
       "      <td>437.31</td>\n",
       "      <td>438.84</td>\n",
       "      <td>47642330</td>\n",
       "    </tr>\n",
       "    <tr>\n",
       "      <th>2021-07-29 00:00:00-04:00</th>\n",
       "      <td>116.29</td>\n",
       "      <td>116.360</td>\n",
       "      <td>116.2250</td>\n",
       "      <td>116.28</td>\n",
       "      <td>5216456</td>\n",
       "      <td>439.83</td>\n",
       "      <td>441.80</td>\n",
       "      <td>439.81</td>\n",
       "      <td>440.67</td>\n",
       "      <td>40930880</td>\n",
       "    </tr>\n",
       "    <tr>\n",
       "      <th>2021-07-30 00:00:00-04:00</th>\n",
       "      <td>116.36</td>\n",
       "      <td>116.485</td>\n",
       "      <td>116.3532</td>\n",
       "      <td>116.45</td>\n",
       "      <td>4859650</td>\n",
       "      <td>437.91</td>\n",
       "      <td>440.06</td>\n",
       "      <td>437.77</td>\n",
       "      <td>438.49</td>\n",
       "      <td>56594282</td>\n",
       "    </tr>\n",
       "  </tbody>\n",
       "</table>\n",
       "</div>"
      ],
      "text/plain": [
       "                              AGG                                         SPY  \\\n",
       "                             open     high       low   close   volume    open   \n",
       "time                                                                            \n",
       "2021-07-26 00:00:00-04:00  116.30  116.330  116.0850  116.11  7028009  439.31   \n",
       "2021-07-27 00:00:00-04:00  116.35  116.400  116.2727  116.39  4669859  439.91   \n",
       "2021-07-28 00:00:00-04:00  116.24  116.490  116.1400  116.48  5189696  439.68   \n",
       "2021-07-29 00:00:00-04:00  116.29  116.360  116.2250  116.28  5216456  439.83   \n",
       "2021-07-30 00:00:00-04:00  116.36  116.485  116.3532  116.45  4859650  437.91   \n",
       "\n",
       "                                                             \n",
       "                             high     low   close    volume  \n",
       "time                                                         \n",
       "2021-07-26 00:00:00-04:00  441.03  439.26  440.99  40155852  \n",
       "2021-07-27 00:00:00-04:00  439.94  435.99  439.00  61032234  \n",
       "2021-07-28 00:00:00-04:00  440.30  437.31  438.84  47642330  \n",
       "2021-07-29 00:00:00-04:00  441.80  439.81  440.67  40930880  \n",
       "2021-07-30 00:00:00-04:00  440.06  437.77  438.49  56594282  "
      ]
     },
     "metadata": {},
     "output_type": "display_data"
    }
   ],
   "source": [
    "# Use the Alpaca get_barset function to make the API call to get the 3 years worth of pricing data\n",
    "# The tickers and timeframe parameters should have been set in Part 1 of this activity \n",
    "# The start and end dates should be updated with the information set above\n",
    "# Remember to add the df property to the end of the call so the response is returned as a DataFrame\n",
    "alpaca_df = trade_api.get_barset(tickers, timeframe, limit=rows, start=start_date, end=end_date).df\n",
    "\n",
    "\n",
    "#get_barset(symbols, timeframe, limit, start=None, end=None, after=None, until=None)\n",
    "# Display both the first and last five rows of the DataFrame\n",
    "\n",
    "display(alpaca_df.head())\n",
    "display(alpaca_df.tail())\n"
   ]
  },
  {
   "cell_type": "markdown",
   "metadata": {},
   "source": [
    "#### Step 2: Run a Monte Carlo simulation of 500 samples and 30 years for the 60/40 portfolio, and then plot the results."
   ]
  },
  {
   "cell_type": "code",
   "execution_count": 99,
   "metadata": {},
   "outputs": [
    {
     "data": {
      "text/html": [
       "<div>\n",
       "<style scoped>\n",
       "    .dataframe tbody tr th:only-of-type {\n",
       "        vertical-align: middle;\n",
       "    }\n",
       "\n",
       "    .dataframe tbody tr th {\n",
       "        vertical-align: top;\n",
       "    }\n",
       "\n",
       "    .dataframe thead tr th {\n",
       "        text-align: left;\n",
       "    }\n",
       "\n",
       "    .dataframe thead tr:last-of-type th {\n",
       "        text-align: right;\n",
       "    }\n",
       "</style>\n",
       "<table border=\"1\" class=\"dataframe\">\n",
       "  <thead>\n",
       "    <tr>\n",
       "      <th></th>\n",
       "      <th colspan=\"6\" halign=\"left\">AGG</th>\n",
       "      <th colspan=\"6\" halign=\"left\">SPY</th>\n",
       "    </tr>\n",
       "    <tr>\n",
       "      <th></th>\n",
       "      <th>open</th>\n",
       "      <th>high</th>\n",
       "      <th>low</th>\n",
       "      <th>close</th>\n",
       "      <th>volume</th>\n",
       "      <th>daily_return</th>\n",
       "      <th>open</th>\n",
       "      <th>high</th>\n",
       "      <th>low</th>\n",
       "      <th>close</th>\n",
       "      <th>volume</th>\n",
       "      <th>daily_return</th>\n",
       "    </tr>\n",
       "    <tr>\n",
       "      <th>time</th>\n",
       "      <th></th>\n",
       "      <th></th>\n",
       "      <th></th>\n",
       "      <th></th>\n",
       "      <th></th>\n",
       "      <th></th>\n",
       "      <th></th>\n",
       "      <th></th>\n",
       "      <th></th>\n",
       "      <th></th>\n",
       "      <th></th>\n",
       "      <th></th>\n",
       "    </tr>\n",
       "  </thead>\n",
       "  <tbody>\n",
       "    <tr>\n",
       "      <th>2018-08-07 00:00:00-04:00</th>\n",
       "      <td>105.97</td>\n",
       "      <td>105.97</td>\n",
       "      <td>105.8250</td>\n",
       "      <td>105.840</td>\n",
       "      <td>2368151</td>\n",
       "      <td>NaN</td>\n",
       "      <td>285.39</td>\n",
       "      <td>286.010</td>\n",
       "      <td>285.240</td>\n",
       "      <td>285.54</td>\n",
       "      <td>32455420</td>\n",
       "      <td>NaN</td>\n",
       "    </tr>\n",
       "    <tr>\n",
       "      <th>2018-08-08 00:00:00-04:00</th>\n",
       "      <td>105.83</td>\n",
       "      <td>105.91</td>\n",
       "      <td>105.8000</td>\n",
       "      <td>105.845</td>\n",
       "      <td>1613011</td>\n",
       "      <td>0.000047</td>\n",
       "      <td>285.39</td>\n",
       "      <td>285.910</td>\n",
       "      <td>284.940</td>\n",
       "      <td>285.42</td>\n",
       "      <td>29142601</td>\n",
       "      <td>-0.000420</td>\n",
       "    </tr>\n",
       "    <tr>\n",
       "      <th>2018-08-09 00:00:00-04:00</th>\n",
       "      <td>105.97</td>\n",
       "      <td>106.04</td>\n",
       "      <td>105.9329</td>\n",
       "      <td>106.030</td>\n",
       "      <td>2168479</td>\n",
       "      <td>0.001748</td>\n",
       "      <td>285.53</td>\n",
       "      <td>285.970</td>\n",
       "      <td>284.915</td>\n",
       "      <td>285.06</td>\n",
       "      <td>24338809</td>\n",
       "      <td>-0.001261</td>\n",
       "    </tr>\n",
       "    <tr>\n",
       "      <th>2018-08-10 00:00:00-04:00</th>\n",
       "      <td>106.11</td>\n",
       "      <td>106.36</td>\n",
       "      <td>106.1100</td>\n",
       "      <td>106.230</td>\n",
       "      <td>2555922</td>\n",
       "      <td>0.001886</td>\n",
       "      <td>283.45</td>\n",
       "      <td>284.055</td>\n",
       "      <td>282.360</td>\n",
       "      <td>283.12</td>\n",
       "      <td>56622478</td>\n",
       "      <td>-0.006806</td>\n",
       "    </tr>\n",
       "    <tr>\n",
       "      <th>2018-08-13 00:00:00-04:00</th>\n",
       "      <td>106.16</td>\n",
       "      <td>106.30</td>\n",
       "      <td>106.1501</td>\n",
       "      <td>106.285</td>\n",
       "      <td>2558386</td>\n",
       "      <td>0.000518</td>\n",
       "      <td>283.47</td>\n",
       "      <td>284.160</td>\n",
       "      <td>281.770</td>\n",
       "      <td>282.05</td>\n",
       "      <td>49247799</td>\n",
       "      <td>-0.003779</td>\n",
       "    </tr>\n",
       "  </tbody>\n",
       "</table>\n",
       "</div>"
      ],
      "text/plain": [
       "                              AGG                                      \\\n",
       "                             open    high       low    close   volume   \n",
       "time                                                                    \n",
       "2018-08-07 00:00:00-04:00  105.97  105.97  105.8250  105.840  2368151   \n",
       "2018-08-08 00:00:00-04:00  105.83  105.91  105.8000  105.845  1613011   \n",
       "2018-08-09 00:00:00-04:00  105.97  106.04  105.9329  106.030  2168479   \n",
       "2018-08-10 00:00:00-04:00  106.11  106.36  106.1100  106.230  2555922   \n",
       "2018-08-13 00:00:00-04:00  106.16  106.30  106.1501  106.285  2558386   \n",
       "\n",
       "                                           SPY                            \\\n",
       "                          daily_return    open     high      low   close   \n",
       "time                                                                       \n",
       "2018-08-07 00:00:00-04:00          NaN  285.39  286.010  285.240  285.54   \n",
       "2018-08-08 00:00:00-04:00     0.000047  285.39  285.910  284.940  285.42   \n",
       "2018-08-09 00:00:00-04:00     0.001748  285.53  285.970  284.915  285.06   \n",
       "2018-08-10 00:00:00-04:00     0.001886  283.45  284.055  282.360  283.12   \n",
       "2018-08-13 00:00:00-04:00     0.000518  283.47  284.160  281.770  282.05   \n",
       "\n",
       "                                                  \n",
       "                             volume daily_return  \n",
       "time                                              \n",
       "2018-08-07 00:00:00-04:00  32455420          NaN  \n",
       "2018-08-08 00:00:00-04:00  29142601    -0.000420  \n",
       "2018-08-09 00:00:00-04:00  24338809    -0.001261  \n",
       "2018-08-10 00:00:00-04:00  56622478    -0.006806  \n",
       "2018-08-13 00:00:00-04:00  49247799    -0.003779  "
      ]
     },
     "execution_count": 99,
     "metadata": {},
     "output_type": "execute_result"
    }
   ],
   "source": [
    "# Configure the Monte Carlo simulation to forecast 30 years cumulative returns\n",
    "# The weights should be split 40% to AGG and 60% to SPY.\n",
    "thirty_year_simulation = MCSimulation(\n",
    "            portfolio_data=alpaca_df,\n",
    "            weights=[0.4,0.6],\n",
    "            num_simulation=500,\n",
    "            num_trading_days=252 * 30\n",
    ")\n",
    "\n",
    "# Review the simulation input data\n",
    "thirty_year_simulation.portfolio_data.head()\n"
   ]
  },
  {
   "cell_type": "code",
   "execution_count": 100,
   "metadata": {},
   "outputs": [
    {
     "name": "stdout",
     "output_type": "stream",
     "text": [
      "Running Monte Carlo simulation number 0.\n",
      "Running Monte Carlo simulation number 10.\n",
      "Running Monte Carlo simulation number 20.\n",
      "Running Monte Carlo simulation number 30.\n",
      "Running Monte Carlo simulation number 40.\n",
      "Running Monte Carlo simulation number 50.\n",
      "Running Monte Carlo simulation number 60.\n",
      "Running Monte Carlo simulation number 70.\n",
      "Running Monte Carlo simulation number 80.\n",
      "Running Monte Carlo simulation number 90.\n",
      "Running Monte Carlo simulation number 100.\n",
      "Running Monte Carlo simulation number 110.\n",
      "Running Monte Carlo simulation number 120.\n",
      "Running Monte Carlo simulation number 130.\n",
      "Running Monte Carlo simulation number 140.\n",
      "Running Monte Carlo simulation number 150.\n",
      "Running Monte Carlo simulation number 160.\n",
      "Running Monte Carlo simulation number 170.\n",
      "Running Monte Carlo simulation number 180.\n",
      "Running Monte Carlo simulation number 190.\n",
      "Running Monte Carlo simulation number 200.\n",
      "Running Monte Carlo simulation number 210.\n",
      "Running Monte Carlo simulation number 220.\n",
      "Running Monte Carlo simulation number 230.\n",
      "Running Monte Carlo simulation number 240.\n",
      "Running Monte Carlo simulation number 250.\n",
      "Running Monte Carlo simulation number 260.\n",
      "Running Monte Carlo simulation number 270.\n",
      "Running Monte Carlo simulation number 280.\n",
      "Running Monte Carlo simulation number 290.\n",
      "Running Monte Carlo simulation number 300.\n",
      "Running Monte Carlo simulation number 310.\n",
      "Running Monte Carlo simulation number 320.\n",
      "Running Monte Carlo simulation number 330.\n",
      "Running Monte Carlo simulation number 340.\n",
      "Running Monte Carlo simulation number 350.\n",
      "Running Monte Carlo simulation number 360.\n",
      "Running Monte Carlo simulation number 370.\n",
      "Running Monte Carlo simulation number 380.\n",
      "Running Monte Carlo simulation number 390.\n",
      "Running Monte Carlo simulation number 400.\n",
      "Running Monte Carlo simulation number 410.\n",
      "Running Monte Carlo simulation number 420.\n",
      "Running Monte Carlo simulation number 430.\n",
      "Running Monte Carlo simulation number 440.\n",
      "Running Monte Carlo simulation number 450.\n",
      "Running Monte Carlo simulation number 460.\n",
      "Running Monte Carlo simulation number 470.\n",
      "Running Monte Carlo simulation number 480.\n",
      "Running Monte Carlo simulation number 490.\n"
     ]
    },
    {
     "data": {
      "text/html": [
       "<div>\n",
       "<style scoped>\n",
       "    .dataframe tbody tr th:only-of-type {\n",
       "        vertical-align: middle;\n",
       "    }\n",
       "\n",
       "    .dataframe tbody tr th {\n",
       "        vertical-align: top;\n",
       "    }\n",
       "\n",
       "    .dataframe thead th {\n",
       "        text-align: right;\n",
       "    }\n",
       "</style>\n",
       "<table border=\"1\" class=\"dataframe\">\n",
       "  <thead>\n",
       "    <tr style=\"text-align: right;\">\n",
       "      <th></th>\n",
       "      <th>0</th>\n",
       "      <th>1</th>\n",
       "      <th>2</th>\n",
       "      <th>3</th>\n",
       "      <th>4</th>\n",
       "      <th>5</th>\n",
       "      <th>6</th>\n",
       "      <th>7</th>\n",
       "      <th>8</th>\n",
       "      <th>9</th>\n",
       "      <th>...</th>\n",
       "      <th>490</th>\n",
       "      <th>491</th>\n",
       "      <th>492</th>\n",
       "      <th>493</th>\n",
       "      <th>494</th>\n",
       "      <th>495</th>\n",
       "      <th>496</th>\n",
       "      <th>497</th>\n",
       "      <th>498</th>\n",
       "      <th>499</th>\n",
       "    </tr>\n",
       "  </thead>\n",
       "  <tbody>\n",
       "    <tr>\n",
       "      <th>0</th>\n",
       "      <td>1.000000</td>\n",
       "      <td>1.000000</td>\n",
       "      <td>1.000000</td>\n",
       "      <td>1.000000</td>\n",
       "      <td>1.000000</td>\n",
       "      <td>1.000000</td>\n",
       "      <td>1.000000</td>\n",
       "      <td>1.000000</td>\n",
       "      <td>1.000000</td>\n",
       "      <td>1.000000</td>\n",
       "      <td>...</td>\n",
       "      <td>1.000000</td>\n",
       "      <td>1.000000</td>\n",
       "      <td>1.000000</td>\n",
       "      <td>1.000000</td>\n",
       "      <td>1.000000</td>\n",
       "      <td>1.000000</td>\n",
       "      <td>1.000000</td>\n",
       "      <td>1.000000</td>\n",
       "      <td>1.000000</td>\n",
       "      <td>1.000000</td>\n",
       "    </tr>\n",
       "    <tr>\n",
       "      <th>1</th>\n",
       "      <td>0.987927</td>\n",
       "      <td>1.003090</td>\n",
       "      <td>0.979264</td>\n",
       "      <td>1.007666</td>\n",
       "      <td>1.003303</td>\n",
       "      <td>0.993058</td>\n",
       "      <td>1.002208</td>\n",
       "      <td>1.010628</td>\n",
       "      <td>1.000071</td>\n",
       "      <td>0.991328</td>\n",
       "      <td>...</td>\n",
       "      <td>1.007594</td>\n",
       "      <td>1.008611</td>\n",
       "      <td>0.999734</td>\n",
       "      <td>1.009060</td>\n",
       "      <td>0.994704</td>\n",
       "      <td>1.005409</td>\n",
       "      <td>1.004519</td>\n",
       "      <td>0.987051</td>\n",
       "      <td>0.994820</td>\n",
       "      <td>1.016822</td>\n",
       "    </tr>\n",
       "    <tr>\n",
       "      <th>2</th>\n",
       "      <td>1.000922</td>\n",
       "      <td>1.011302</td>\n",
       "      <td>0.991471</td>\n",
       "      <td>1.026450</td>\n",
       "      <td>1.009716</td>\n",
       "      <td>1.009587</td>\n",
       "      <td>0.981887</td>\n",
       "      <td>1.002720</td>\n",
       "      <td>0.983660</td>\n",
       "      <td>1.006760</td>\n",
       "      <td>...</td>\n",
       "      <td>0.999058</td>\n",
       "      <td>1.001925</td>\n",
       "      <td>1.001207</td>\n",
       "      <td>1.010671</td>\n",
       "      <td>1.000886</td>\n",
       "      <td>1.007743</td>\n",
       "      <td>1.005354</td>\n",
       "      <td>0.988771</td>\n",
       "      <td>0.987266</td>\n",
       "      <td>1.038342</td>\n",
       "    </tr>\n",
       "    <tr>\n",
       "      <th>3</th>\n",
       "      <td>0.994546</td>\n",
       "      <td>0.998028</td>\n",
       "      <td>0.998910</td>\n",
       "      <td>1.019705</td>\n",
       "      <td>0.996595</td>\n",
       "      <td>1.013419</td>\n",
       "      <td>0.996213</td>\n",
       "      <td>1.026957</td>\n",
       "      <td>0.983961</td>\n",
       "      <td>1.006679</td>\n",
       "      <td>...</td>\n",
       "      <td>1.010795</td>\n",
       "      <td>1.002441</td>\n",
       "      <td>1.006338</td>\n",
       "      <td>1.014893</td>\n",
       "      <td>0.996033</td>\n",
       "      <td>0.996911</td>\n",
       "      <td>1.024495</td>\n",
       "      <td>0.990877</td>\n",
       "      <td>0.996255</td>\n",
       "      <td>1.024911</td>\n",
       "    </tr>\n",
       "    <tr>\n",
       "      <th>4</th>\n",
       "      <td>1.005849</td>\n",
       "      <td>0.984467</td>\n",
       "      <td>1.011027</td>\n",
       "      <td>1.020277</td>\n",
       "      <td>1.007788</td>\n",
       "      <td>1.007358</td>\n",
       "      <td>0.996160</td>\n",
       "      <td>1.035965</td>\n",
       "      <td>0.974791</td>\n",
       "      <td>1.015362</td>\n",
       "      <td>...</td>\n",
       "      <td>1.014418</td>\n",
       "      <td>0.999237</td>\n",
       "      <td>1.011929</td>\n",
       "      <td>0.996313</td>\n",
       "      <td>1.000887</td>\n",
       "      <td>0.994506</td>\n",
       "      <td>1.026783</td>\n",
       "      <td>0.988056</td>\n",
       "      <td>1.009429</td>\n",
       "      <td>1.026315</td>\n",
       "    </tr>\n",
       "    <tr>\n",
       "      <th>...</th>\n",
       "      <td>...</td>\n",
       "      <td>...</td>\n",
       "      <td>...</td>\n",
       "      <td>...</td>\n",
       "      <td>...</td>\n",
       "      <td>...</td>\n",
       "      <td>...</td>\n",
       "      <td>...</td>\n",
       "      <td>...</td>\n",
       "      <td>...</td>\n",
       "      <td>...</td>\n",
       "      <td>...</td>\n",
       "      <td>...</td>\n",
       "      <td>...</td>\n",
       "      <td>...</td>\n",
       "      <td>...</td>\n",
       "      <td>...</td>\n",
       "      <td>...</td>\n",
       "      <td>...</td>\n",
       "      <td>...</td>\n",
       "      <td>...</td>\n",
       "    </tr>\n",
       "    <tr>\n",
       "      <th>7556</th>\n",
       "      <td>32.438608</td>\n",
       "      <td>15.293988</td>\n",
       "      <td>23.970386</td>\n",
       "      <td>64.221988</td>\n",
       "      <td>76.551724</td>\n",
       "      <td>28.333135</td>\n",
       "      <td>4.915588</td>\n",
       "      <td>22.088252</td>\n",
       "      <td>31.530086</td>\n",
       "      <td>58.143042</td>\n",
       "      <td>...</td>\n",
       "      <td>186.084643</td>\n",
       "      <td>48.802888</td>\n",
       "      <td>36.905116</td>\n",
       "      <td>4.496110</td>\n",
       "      <td>75.144051</td>\n",
       "      <td>22.202566</td>\n",
       "      <td>18.000120</td>\n",
       "      <td>22.047166</td>\n",
       "      <td>30.041941</td>\n",
       "      <td>9.465709</td>\n",
       "    </tr>\n",
       "    <tr>\n",
       "      <th>7557</th>\n",
       "      <td>32.591718</td>\n",
       "      <td>15.572618</td>\n",
       "      <td>24.117230</td>\n",
       "      <td>63.977271</td>\n",
       "      <td>76.527889</td>\n",
       "      <td>28.485571</td>\n",
       "      <td>4.937920</td>\n",
       "      <td>22.278270</td>\n",
       "      <td>31.708983</td>\n",
       "      <td>58.541102</td>\n",
       "      <td>...</td>\n",
       "      <td>185.769932</td>\n",
       "      <td>49.146939</td>\n",
       "      <td>37.215578</td>\n",
       "      <td>4.400698</td>\n",
       "      <td>75.106676</td>\n",
       "      <td>22.105098</td>\n",
       "      <td>18.132184</td>\n",
       "      <td>22.271348</td>\n",
       "      <td>30.262735</td>\n",
       "      <td>9.494122</td>\n",
       "    </tr>\n",
       "    <tr>\n",
       "      <th>7558</th>\n",
       "      <td>32.437737</td>\n",
       "      <td>15.561635</td>\n",
       "      <td>23.983584</td>\n",
       "      <td>63.827011</td>\n",
       "      <td>77.298187</td>\n",
       "      <td>27.856051</td>\n",
       "      <td>4.965712</td>\n",
       "      <td>22.280187</td>\n",
       "      <td>31.569220</td>\n",
       "      <td>58.372216</td>\n",
       "      <td>...</td>\n",
       "      <td>187.257280</td>\n",
       "      <td>49.352951</td>\n",
       "      <td>37.100425</td>\n",
       "      <td>4.296243</td>\n",
       "      <td>74.939203</td>\n",
       "      <td>22.127528</td>\n",
       "      <td>18.231684</td>\n",
       "      <td>22.424051</td>\n",
       "      <td>29.872423</td>\n",
       "      <td>9.655881</td>\n",
       "    </tr>\n",
       "    <tr>\n",
       "      <th>7559</th>\n",
       "      <td>32.552150</td>\n",
       "      <td>15.760399</td>\n",
       "      <td>23.997280</td>\n",
       "      <td>63.846035</td>\n",
       "      <td>77.479646</td>\n",
       "      <td>27.911323</td>\n",
       "      <td>4.944799</td>\n",
       "      <td>22.119495</td>\n",
       "      <td>31.750915</td>\n",
       "      <td>58.494256</td>\n",
       "      <td>...</td>\n",
       "      <td>191.271198</td>\n",
       "      <td>49.471949</td>\n",
       "      <td>38.082703</td>\n",
       "      <td>4.257262</td>\n",
       "      <td>74.616797</td>\n",
       "      <td>22.066515</td>\n",
       "      <td>18.161049</td>\n",
       "      <td>22.242110</td>\n",
       "      <td>29.661466</td>\n",
       "      <td>9.692719</td>\n",
       "    </tr>\n",
       "    <tr>\n",
       "      <th>7560</th>\n",
       "      <td>33.154270</td>\n",
       "      <td>15.826135</td>\n",
       "      <td>23.862010</td>\n",
       "      <td>64.372240</td>\n",
       "      <td>78.451064</td>\n",
       "      <td>27.985886</td>\n",
       "      <td>5.016611</td>\n",
       "      <td>22.007925</td>\n",
       "      <td>32.141119</td>\n",
       "      <td>58.399456</td>\n",
       "      <td>...</td>\n",
       "      <td>189.561448</td>\n",
       "      <td>49.751209</td>\n",
       "      <td>38.447187</td>\n",
       "      <td>4.225778</td>\n",
       "      <td>75.422523</td>\n",
       "      <td>22.099067</td>\n",
       "      <td>18.410911</td>\n",
       "      <td>22.638312</td>\n",
       "      <td>29.571495</td>\n",
       "      <td>9.765001</td>\n",
       "    </tr>\n",
       "  </tbody>\n",
       "</table>\n",
       "<p>7561 rows × 500 columns</p>\n",
       "</div>"
      ],
      "text/plain": [
       "            0          1          2          3          4          5    \\\n",
       "0      1.000000   1.000000   1.000000   1.000000   1.000000   1.000000   \n",
       "1      0.987927   1.003090   0.979264   1.007666   1.003303   0.993058   \n",
       "2      1.000922   1.011302   0.991471   1.026450   1.009716   1.009587   \n",
       "3      0.994546   0.998028   0.998910   1.019705   0.996595   1.013419   \n",
       "4      1.005849   0.984467   1.011027   1.020277   1.007788   1.007358   \n",
       "...         ...        ...        ...        ...        ...        ...   \n",
       "7556  32.438608  15.293988  23.970386  64.221988  76.551724  28.333135   \n",
       "7557  32.591718  15.572618  24.117230  63.977271  76.527889  28.485571   \n",
       "7558  32.437737  15.561635  23.983584  63.827011  77.298187  27.856051   \n",
       "7559  32.552150  15.760399  23.997280  63.846035  77.479646  27.911323   \n",
       "7560  33.154270  15.826135  23.862010  64.372240  78.451064  27.985886   \n",
       "\n",
       "           6          7          8          9    ...         490        491  \\\n",
       "0     1.000000   1.000000   1.000000   1.000000  ...    1.000000   1.000000   \n",
       "1     1.002208   1.010628   1.000071   0.991328  ...    1.007594   1.008611   \n",
       "2     0.981887   1.002720   0.983660   1.006760  ...    0.999058   1.001925   \n",
       "3     0.996213   1.026957   0.983961   1.006679  ...    1.010795   1.002441   \n",
       "4     0.996160   1.035965   0.974791   1.015362  ...    1.014418   0.999237   \n",
       "...        ...        ...        ...        ...  ...         ...        ...   \n",
       "7556  4.915588  22.088252  31.530086  58.143042  ...  186.084643  48.802888   \n",
       "7557  4.937920  22.278270  31.708983  58.541102  ...  185.769932  49.146939   \n",
       "7558  4.965712  22.280187  31.569220  58.372216  ...  187.257280  49.352951   \n",
       "7559  4.944799  22.119495  31.750915  58.494256  ...  191.271198  49.471949   \n",
       "7560  5.016611  22.007925  32.141119  58.399456  ...  189.561448  49.751209   \n",
       "\n",
       "            492       493        494        495        496        497  \\\n",
       "0      1.000000  1.000000   1.000000   1.000000   1.000000   1.000000   \n",
       "1      0.999734  1.009060   0.994704   1.005409   1.004519   0.987051   \n",
       "2      1.001207  1.010671   1.000886   1.007743   1.005354   0.988771   \n",
       "3      1.006338  1.014893   0.996033   0.996911   1.024495   0.990877   \n",
       "4      1.011929  0.996313   1.000887   0.994506   1.026783   0.988056   \n",
       "...         ...       ...        ...        ...        ...        ...   \n",
       "7556  36.905116  4.496110  75.144051  22.202566  18.000120  22.047166   \n",
       "7557  37.215578  4.400698  75.106676  22.105098  18.132184  22.271348   \n",
       "7558  37.100425  4.296243  74.939203  22.127528  18.231684  22.424051   \n",
       "7559  38.082703  4.257262  74.616797  22.066515  18.161049  22.242110   \n",
       "7560  38.447187  4.225778  75.422523  22.099067  18.410911  22.638312   \n",
       "\n",
       "            498       499  \n",
       "0      1.000000  1.000000  \n",
       "1      0.994820  1.016822  \n",
       "2      0.987266  1.038342  \n",
       "3      0.996255  1.024911  \n",
       "4      1.009429  1.026315  \n",
       "...         ...       ...  \n",
       "7556  30.041941  9.465709  \n",
       "7557  30.262735  9.494122  \n",
       "7558  29.872423  9.655881  \n",
       "7559  29.661466  9.692719  \n",
       "7560  29.571495  9.765001  \n",
       "\n",
       "[7561 rows x 500 columns]"
      ]
     },
     "execution_count": 100,
     "metadata": {},
     "output_type": "execute_result"
    }
   ],
   "source": [
    "# Run the Monte Carlo simulation to forecast 30 years cumulative returns\n",
    "thirty_year_simulation.calc_cumulative_return()\n"
   ]
  },
  {
   "cell_type": "code",
   "execution_count": 101,
   "metadata": {},
   "outputs": [
    {
     "data": {
      "text/plain": [
       "<AxesSubplot:title={'center':'500 Simulations of Cumulative Portfolio Return Trajectories Over the Next 7560 Trading Days.'}>"
      ]
     },
     "execution_count": 101,
     "metadata": {},
     "output_type": "execute_result"
    },
    {
     "data": {
      "image/png": "[encoded data removed]",
      "text/plain": [
       "<Figure size 432x288 with 1 Axes>"
      ]
     },
     "metadata": {
      "needs_background": "light"
     },
     "output_type": "display_data"
    }
   ],
   "source": [
    "# Visualize the 30-year Monte Carlo simulation by creating an\n",
    "# overlay line plot\n",
    "thirty_year_simulation.plot_simulation()"
   ]
  },
  {
   "cell_type": "markdown",
   "metadata": {},
   "source": [
    "#### Step 3: Plot the probability distribution of the Monte Carlo simulation."
   ]
  },
  {
   "cell_type": "code",
   "execution_count": 102,
   "metadata": {},
   "outputs": [
    {
     "data": {
      "text/plain": [
       "<AxesSubplot:title={'center':'Distribution of Final Cumuluative Returns Across All 500 Simulations'}, ylabel='Frequency'>"
      ]
     },
     "execution_count": 102,
     "metadata": {},
     "output_type": "execute_result"
    },
    {
     "data": {
      "image/png": "[encoded data removed]",
      "text/plain": [
       "<Figure size 432x288 with 1 Axes>"
      ]
     },
     "metadata": {
      "needs_background": "light"
     },
     "output_type": "display_data"
    }
   ],
   "source": [
    "# Visualize the probability distribution of the 30-year Monte Carlo simulation \n",
    "# by plotting a histogram\n",
    "thirty_year_simulation.plot_distribution()\n"
   ]
  },
  {
   "cell_type": "markdown",
   "metadata": {},
   "source": [
    "#### Step 4: Generate the summary statistics for the Monte Carlo simulation."
   ]
  },
  {
   "cell_type": "code",
   "execution_count": 103,
   "metadata": {},
   "outputs": [
    {
     "data": {
      "text/plain": [
       "count           500.000000\n",
       "mean             30.776837\n",
       "std              26.349264\n",
       "min               2.740765\n",
       "25%              14.596342\n",
       "50%              23.643595\n",
       "75%              37.317364\n",
       "max             205.844081\n",
       "95% CI Lower      5.218708\n",
       "95% CI Upper    100.916050\n",
       "Name: 7560, dtype: float64"
      ]
     },
     "execution_count": 103,
     "metadata": {},
     "output_type": "execute_result"
    }
   ],
   "source": [
    "# Generate summary statistics from the 30-year Monte Carlo simulation results\n",
    "# Save the results as a variable\n",
    "summary_statistics = thirty_year_simulation.summarize_cumulative_return()\n",
    "\n",
    "\n",
    "# Review the 30-year Monte Carlo summary statistics\n",
    "summary_statistics "
   ]
  },
  {
   "cell_type": "markdown",
   "metadata": {},
   "source": [
    "### Analyze the Retirement Portfolio Forecasts\n",
    "\n",
    "Using the current value of only the stock and bond portion of the member's portfolio and the summary statistics that you generated from the Monte Carlo simulation, answer the following question in your Jupyter notebook:\n",
    "\n",
    "-  What are the lower and upper bounds for the expected value of the portfolio with a 95% confidence interval?\n",
    "    A: Lower : 0.88 , Upper : 2.16"
   ]
  },
  {
   "cell_type": "code",
   "execution_count": 97,
   "metadata": {},
   "outputs": [
    {
     "data": {
      "text/plain": [
       "71523.9"
      ]
     },
     "execution_count": 97,
     "metadata": {},
     "output_type": "execute_result"
    }
   ],
   "source": [
    "# Print the current balance of the stock and bond portion of the members portfolio\n",
    "total_stocks_bonds"
   ]
  },
  {
   "cell_type": "code",
   "execution_count": null,
   "metadata": {},
   "outputs": [],
   "source": []
  },
  {
   "cell_type": "code",
   "execution_count": 104,
   "metadata": {},
   "outputs": [
    {
     "data": {
      "text/plain": [
       "373262.3491212"
      ]
     },
     "metadata": {},
     "output_type": "display_data"
    },
    {
     "data": {
      "text/plain": [
       "7217909.468594999"
      ]
     },
     "metadata": {},
     "output_type": "display_data"
    }
   ],
   "source": [
    "# Use the lower and upper `95%` confidence intervals to calculate the range of the possible outcomes for the current stock/bond portfolio\n",
    "ci_lower = 5.218708\n",
    "ci_upper = 100.916050\n",
    "\n",
    "ci_lower_thirty_cumulative_return = total_stocks_bonds * ci_lower\n",
    "ci_upper_thirty_cumulative_return = total_stocks_bonds * ci_upper\n",
    "\n",
    "# Print the result of your calculations\n",
    "display(ci_lower_thirty_cumulative_return)\n",
    "display(ci_upper_thirty_cumulative_return)\n"
   ]
  },
  {
   "cell_type": "markdown",
   "metadata": {},
   "source": [
    "### Forecast Cumulative Returns in 10 Years\n",
    "\n",
    "The CTO of the credit union is impressed with your work on these planning tools but wonders if 30 years is a long time to wait until retirement. So, your next task is to adjust the retirement portfolio and run a new Monte Carlo simulation to find out if the changes will allow members to retire earlier.\n",
    "\n",
    "For this new Monte Carlo simulation, do the following: \n",
    "\n",
    "- Forecast the cumulative returns for 10 years from now. Because of the shortened investment horizon (30 years to 10 years), the portfolio needs to invest more heavily in the riskier asset&mdash;that is, stock&mdash;to help accumulate wealth for retirement. \n",
    "\n",
    "- Adjust the weights of the retirement portfolio so that the composition for the Monte Carlo simulation consists of 20% bonds and 80% stocks. \n",
    "\n",
    "- Run the simulation over 500 samples, and use the same data that the API call to Alpaca generated.\n",
    "\n",
    "- Based on the new Monte Carlo simulation, answer the following questions in your Jupyter notebook:\n",
    "\n",
    "    - Using the current value of only the stock and bond portion of the member's portfolio and the summary statistics that you generated from the new Monte Carlo simulation, what are the lower and upper bounds for the expected value of the portfolio (with the new weights) with a 95% confidence interval?\n",
    "\n",
    "    - Will weighting the portfolio more heavily toward stocks allow the credit union members to retire after only 10 years?\n"
   ]
  },
  {
   "cell_type": "code",
   "execution_count": 105,
   "metadata": {},
   "outputs": [],
   "source": [
    "# Configure a Monte Carlo simulation to forecast 10 years cumulative returns\n",
    "# The weights should be split 20% to AGG and 80% to SPY.\n",
    "# Run 500 samples.\n",
    "ten_year_simulation = MCSimulation(\n",
    "            portfolio_data=alpaca_df,\n",
    "            weights=[0.2,0.8],\n",
    "            num_simulation=500,\n",
    "            num_trading_days=252 * 10\n",
    ")\n",
    "\n",
    "# Review the simulation input data\n",
    "# YOUR CODE HERE\n"
   ]
  },
  {
   "cell_type": "code",
   "execution_count": 106,
   "metadata": {},
   "outputs": [
    {
     "name": "stdout",
     "output_type": "stream",
     "text": [
      "Running Monte Carlo simulation number 0.\n",
      "Running Monte Carlo simulation number 10.\n",
      "Running Monte Carlo simulation number 20.\n",
      "Running Monte Carlo simulation number 30.\n",
      "Running Monte Carlo simulation number 40.\n",
      "Running Monte Carlo simulation number 50.\n",
      "Running Monte Carlo simulation number 60.\n",
      "Running Monte Carlo simulation number 70.\n",
      "Running Monte Carlo simulation number 80.\n",
      "Running Monte Carlo simulation number 90.\n",
      "Running Monte Carlo simulation number 100.\n",
      "Running Monte Carlo simulation number 110.\n",
      "Running Monte Carlo simulation number 120.\n",
      "Running Monte Carlo simulation number 130.\n",
      "Running Monte Carlo simulation number 140.\n",
      "Running Monte Carlo simulation number 150.\n",
      "Running Monte Carlo simulation number 160.\n",
      "Running Monte Carlo simulation number 170.\n",
      "Running Monte Carlo simulation number 180.\n",
      "Running Monte Carlo simulation number 190.\n",
      "Running Monte Carlo simulation number 200.\n",
      "Running Monte Carlo simulation number 210.\n",
      "Running Monte Carlo simulation number 220.\n",
      "Running Monte Carlo simulation number 230.\n",
      "Running Monte Carlo simulation number 240.\n",
      "Running Monte Carlo simulation number 250.\n",
      "Running Monte Carlo simulation number 260.\n",
      "Running Monte Carlo simulation number 270.\n",
      "Running Monte Carlo simulation number 280.\n",
      "Running Monte Carlo simulation number 290.\n",
      "Running Monte Carlo simulation number 300.\n",
      "Running Monte Carlo simulation number 310.\n",
      "Running Monte Carlo simulation number 320.\n",
      "Running Monte Carlo simulation number 330.\n",
      "Running Monte Carlo simulation number 340.\n",
      "Running Monte Carlo simulation number 350.\n",
      "Running Monte Carlo simulation number 360.\n",
      "Running Monte Carlo simulation number 370.\n",
      "Running Monte Carlo simulation number 380.\n",
      "Running Monte Carlo simulation number 390.\n",
      "Running Monte Carlo simulation number 400.\n",
      "Running Monte Carlo simulation number 410.\n",
      "Running Monte Carlo simulation number 420.\n",
      "Running Monte Carlo simulation number 430.\n",
      "Running Monte Carlo simulation number 440.\n",
      "Running Monte Carlo simulation number 450.\n",
      "Running Monte Carlo simulation number 460.\n",
      "Running Monte Carlo simulation number 470.\n",
      "Running Monte Carlo simulation number 480.\n",
      "Running Monte Carlo simulation number 490.\n"
     ]
    },
    {
     "data": {
      "text/html": [
       "<div>\n",
       "<style scoped>\n",
       "    .dataframe tbody tr th:only-of-type {\n",
       "        vertical-align: middle;\n",
       "    }\n",
       "\n",
       "    .dataframe tbody tr th {\n",
       "        vertical-align: top;\n",
       "    }\n",
       "\n",
       "    .dataframe thead th {\n",
       "        text-align: right;\n",
       "    }\n",
       "</style>\n",
       "<table border=\"1\" class=\"dataframe\">\n",
       "  <thead>\n",
       "    <tr style=\"text-align: right;\">\n",
       "      <th></th>\n",
       "      <th>0</th>\n",
       "      <th>1</th>\n",
       "      <th>2</th>\n",
       "      <th>3</th>\n",
       "      <th>4</th>\n",
       "      <th>5</th>\n",
       "      <th>6</th>\n",
       "      <th>7</th>\n",
       "      <th>8</th>\n",
       "      <th>9</th>\n",
       "      <th>...</th>\n",
       "      <th>490</th>\n",
       "      <th>491</th>\n",
       "      <th>492</th>\n",
       "      <th>493</th>\n",
       "      <th>494</th>\n",
       "      <th>495</th>\n",
       "      <th>496</th>\n",
       "      <th>497</th>\n",
       "      <th>498</th>\n",
       "      <th>499</th>\n",
       "    </tr>\n",
       "  </thead>\n",
       "  <tbody>\n",
       "    <tr>\n",
       "      <th>0</th>\n",
       "      <td>1.000000</td>\n",
       "      <td>1.000000</td>\n",
       "      <td>1.000000</td>\n",
       "      <td>1.000000</td>\n",
       "      <td>1.000000</td>\n",
       "      <td>1.000000</td>\n",
       "      <td>1.000000</td>\n",
       "      <td>1.000000</td>\n",
       "      <td>1.000000</td>\n",
       "      <td>1.000000</td>\n",
       "      <td>...</td>\n",
       "      <td>1.000000</td>\n",
       "      <td>1.000000</td>\n",
       "      <td>1.000000</td>\n",
       "      <td>1.000000</td>\n",
       "      <td>1.000000</td>\n",
       "      <td>1.000000</td>\n",
       "      <td>1.000000</td>\n",
       "      <td>1.000000</td>\n",
       "      <td>1.000000</td>\n",
       "      <td>1.000000</td>\n",
       "    </tr>\n",
       "    <tr>\n",
       "      <th>1</th>\n",
       "      <td>0.972528</td>\n",
       "      <td>1.003839</td>\n",
       "      <td>1.018199</td>\n",
       "      <td>0.995782</td>\n",
       "      <td>0.991829</td>\n",
       "      <td>0.977733</td>\n",
       "      <td>1.010916</td>\n",
       "      <td>1.000762</td>\n",
       "      <td>0.987812</td>\n",
       "      <td>0.993222</td>\n",
       "      <td>...</td>\n",
       "      <td>0.995550</td>\n",
       "      <td>0.998762</td>\n",
       "      <td>1.003408</td>\n",
       "      <td>0.999580</td>\n",
       "      <td>0.979536</td>\n",
       "      <td>1.003404</td>\n",
       "      <td>0.995870</td>\n",
       "      <td>1.004894</td>\n",
       "      <td>0.992653</td>\n",
       "      <td>1.009853</td>\n",
       "    </tr>\n",
       "    <tr>\n",
       "      <th>2</th>\n",
       "      <td>0.966382</td>\n",
       "      <td>0.996637</td>\n",
       "      <td>1.009842</td>\n",
       "      <td>0.991323</td>\n",
       "      <td>0.990587</td>\n",
       "      <td>0.986670</td>\n",
       "      <td>1.043144</td>\n",
       "      <td>1.008031</td>\n",
       "      <td>0.994136</td>\n",
       "      <td>0.989150</td>\n",
       "      <td>...</td>\n",
       "      <td>0.970709</td>\n",
       "      <td>0.991782</td>\n",
       "      <td>0.984629</td>\n",
       "      <td>0.996345</td>\n",
       "      <td>0.965388</td>\n",
       "      <td>1.010952</td>\n",
       "      <td>1.001047</td>\n",
       "      <td>1.001487</td>\n",
       "      <td>1.004814</td>\n",
       "      <td>1.017175</td>\n",
       "    </tr>\n",
       "    <tr>\n",
       "      <th>3</th>\n",
       "      <td>0.966660</td>\n",
       "      <td>0.999596</td>\n",
       "      <td>1.012909</td>\n",
       "      <td>0.995063</td>\n",
       "      <td>1.020490</td>\n",
       "      <td>0.999183</td>\n",
       "      <td>1.050305</td>\n",
       "      <td>1.000117</td>\n",
       "      <td>1.018372</td>\n",
       "      <td>0.996679</td>\n",
       "      <td>...</td>\n",
       "      <td>0.966812</td>\n",
       "      <td>1.003659</td>\n",
       "      <td>0.974543</td>\n",
       "      <td>0.990828</td>\n",
       "      <td>0.954466</td>\n",
       "      <td>1.023351</td>\n",
       "      <td>1.024506</td>\n",
       "      <td>0.990567</td>\n",
       "      <td>0.999952</td>\n",
       "      <td>1.024311</td>\n",
       "    </tr>\n",
       "    <tr>\n",
       "      <th>4</th>\n",
       "      <td>0.949526</td>\n",
       "      <td>1.010874</td>\n",
       "      <td>0.989747</td>\n",
       "      <td>1.002545</td>\n",
       "      <td>1.028074</td>\n",
       "      <td>0.962921</td>\n",
       "      <td>1.041650</td>\n",
       "      <td>0.999136</td>\n",
       "      <td>0.999963</td>\n",
       "      <td>0.995386</td>\n",
       "      <td>...</td>\n",
       "      <td>0.970518</td>\n",
       "      <td>0.990993</td>\n",
       "      <td>0.971029</td>\n",
       "      <td>1.008778</td>\n",
       "      <td>0.964025</td>\n",
       "      <td>1.045605</td>\n",
       "      <td>1.026768</td>\n",
       "      <td>1.001624</td>\n",
       "      <td>1.019504</td>\n",
       "      <td>1.007435</td>\n",
       "    </tr>\n",
       "    <tr>\n",
       "      <th>...</th>\n",
       "      <td>...</td>\n",
       "      <td>...</td>\n",
       "      <td>...</td>\n",
       "      <td>...</td>\n",
       "      <td>...</td>\n",
       "      <td>...</td>\n",
       "      <td>...</td>\n",
       "      <td>...</td>\n",
       "      <td>...</td>\n",
       "      <td>...</td>\n",
       "      <td>...</td>\n",
       "      <td>...</td>\n",
       "      <td>...</td>\n",
       "      <td>...</td>\n",
       "      <td>...</td>\n",
       "      <td>...</td>\n",
       "      <td>...</td>\n",
       "      <td>...</td>\n",
       "      <td>...</td>\n",
       "      <td>...</td>\n",
       "      <td>...</td>\n",
       "    </tr>\n",
       "    <tr>\n",
       "      <th>2516</th>\n",
       "      <td>1.903641</td>\n",
       "      <td>3.586202</td>\n",
       "      <td>4.192332</td>\n",
       "      <td>2.605751</td>\n",
       "      <td>6.146257</td>\n",
       "      <td>6.495200</td>\n",
       "      <td>1.540734</td>\n",
       "      <td>1.856428</td>\n",
       "      <td>6.780046</td>\n",
       "      <td>8.391801</td>\n",
       "      <td>...</td>\n",
       "      <td>3.674842</td>\n",
       "      <td>4.147845</td>\n",
       "      <td>2.217490</td>\n",
       "      <td>9.566154</td>\n",
       "      <td>1.682968</td>\n",
       "      <td>8.419833</td>\n",
       "      <td>2.695447</td>\n",
       "      <td>2.670565</td>\n",
       "      <td>10.103784</td>\n",
       "      <td>3.066236</td>\n",
       "    </tr>\n",
       "    <tr>\n",
       "      <th>2517</th>\n",
       "      <td>1.923480</td>\n",
       "      <td>3.594109</td>\n",
       "      <td>4.136741</td>\n",
       "      <td>2.580631</td>\n",
       "      <td>6.158798</td>\n",
       "      <td>6.409206</td>\n",
       "      <td>1.578246</td>\n",
       "      <td>1.909710</td>\n",
       "      <td>6.802487</td>\n",
       "      <td>8.163368</td>\n",
       "      <td>...</td>\n",
       "      <td>3.685037</td>\n",
       "      <td>4.140968</td>\n",
       "      <td>2.246291</td>\n",
       "      <td>9.527262</td>\n",
       "      <td>1.692076</td>\n",
       "      <td>8.512498</td>\n",
       "      <td>2.750713</td>\n",
       "      <td>2.686062</td>\n",
       "      <td>10.081483</td>\n",
       "      <td>3.070869</td>\n",
       "    </tr>\n",
       "    <tr>\n",
       "      <th>2518</th>\n",
       "      <td>1.897936</td>\n",
       "      <td>3.559549</td>\n",
       "      <td>4.085139</td>\n",
       "      <td>2.585318</td>\n",
       "      <td>6.108705</td>\n",
       "      <td>6.605715</td>\n",
       "      <td>1.587357</td>\n",
       "      <td>1.938124</td>\n",
       "      <td>6.858642</td>\n",
       "      <td>8.153421</td>\n",
       "      <td>...</td>\n",
       "      <td>3.624299</td>\n",
       "      <td>4.156937</td>\n",
       "      <td>2.271269</td>\n",
       "      <td>9.712400</td>\n",
       "      <td>1.675292</td>\n",
       "      <td>8.389085</td>\n",
       "      <td>2.742670</td>\n",
       "      <td>2.680500</td>\n",
       "      <td>10.147057</td>\n",
       "      <td>3.053660</td>\n",
       "    </tr>\n",
       "    <tr>\n",
       "      <th>2519</th>\n",
       "      <td>1.875138</td>\n",
       "      <td>3.612914</td>\n",
       "      <td>4.078629</td>\n",
       "      <td>2.554091</td>\n",
       "      <td>6.091382</td>\n",
       "      <td>6.599773</td>\n",
       "      <td>1.590114</td>\n",
       "      <td>1.907243</td>\n",
       "      <td>6.937342</td>\n",
       "      <td>8.097674</td>\n",
       "      <td>...</td>\n",
       "      <td>3.644826</td>\n",
       "      <td>4.014402</td>\n",
       "      <td>2.244170</td>\n",
       "      <td>9.678650</td>\n",
       "      <td>1.700218</td>\n",
       "      <td>8.361616</td>\n",
       "      <td>2.765369</td>\n",
       "      <td>2.707388</td>\n",
       "      <td>10.113271</td>\n",
       "      <td>3.028194</td>\n",
       "    </tr>\n",
       "    <tr>\n",
       "      <th>2520</th>\n",
       "      <td>1.846046</td>\n",
       "      <td>3.635222</td>\n",
       "      <td>4.065887</td>\n",
       "      <td>2.568005</td>\n",
       "      <td>5.945817</td>\n",
       "      <td>6.602752</td>\n",
       "      <td>1.584697</td>\n",
       "      <td>1.936298</td>\n",
       "      <td>7.017686</td>\n",
       "      <td>8.040854</td>\n",
       "      <td>...</td>\n",
       "      <td>3.648563</td>\n",
       "      <td>4.032615</td>\n",
       "      <td>2.292943</td>\n",
       "      <td>9.756588</td>\n",
       "      <td>1.707952</td>\n",
       "      <td>8.147807</td>\n",
       "      <td>2.721145</td>\n",
       "      <td>2.701452</td>\n",
       "      <td>10.323657</td>\n",
       "      <td>3.063607</td>\n",
       "    </tr>\n",
       "  </tbody>\n",
       "</table>\n",
       "<p>2521 rows × 500 columns</p>\n",
       "</div>"
      ],
      "text/plain": [
       "           0         1         2         3         4         5         6    \\\n",
       "0     1.000000  1.000000  1.000000  1.000000  1.000000  1.000000  1.000000   \n",
       "1     0.972528  1.003839  1.018199  0.995782  0.991829  0.977733  1.010916   \n",
       "2     0.966382  0.996637  1.009842  0.991323  0.990587  0.986670  1.043144   \n",
       "3     0.966660  0.999596  1.012909  0.995063  1.020490  0.999183  1.050305   \n",
       "4     0.949526  1.010874  0.989747  1.002545  1.028074  0.962921  1.041650   \n",
       "...        ...       ...       ...       ...       ...       ...       ...   \n",
       "2516  1.903641  3.586202  4.192332  2.605751  6.146257  6.495200  1.540734   \n",
       "2517  1.923480  3.594109  4.136741  2.580631  6.158798  6.409206  1.578246   \n",
       "2518  1.897936  3.559549  4.085139  2.585318  6.108705  6.605715  1.587357   \n",
       "2519  1.875138  3.612914  4.078629  2.554091  6.091382  6.599773  1.590114   \n",
       "2520  1.846046  3.635222  4.065887  2.568005  5.945817  6.602752  1.584697   \n",
       "\n",
       "           7         8         9    ...       490       491       492  \\\n",
       "0     1.000000  1.000000  1.000000  ...  1.000000  1.000000  1.000000   \n",
       "1     1.000762  0.987812  0.993222  ...  0.995550  0.998762  1.003408   \n",
       "2     1.008031  0.994136  0.989150  ...  0.970709  0.991782  0.984629   \n",
       "3     1.000117  1.018372  0.996679  ...  0.966812  1.003659  0.974543   \n",
       "4     0.999136  0.999963  0.995386  ...  0.970518  0.990993  0.971029   \n",
       "...        ...       ...       ...  ...       ...       ...       ...   \n",
       "2516  1.856428  6.780046  8.391801  ...  3.674842  4.147845  2.217490   \n",
       "2517  1.909710  6.802487  8.163368  ...  3.685037  4.140968  2.246291   \n",
       "2518  1.938124  6.858642  8.153421  ...  3.624299  4.156937  2.271269   \n",
       "2519  1.907243  6.937342  8.097674  ...  3.644826  4.014402  2.244170   \n",
       "2520  1.936298  7.017686  8.040854  ...  3.648563  4.032615  2.292943   \n",
       "\n",
       "           493       494       495       496       497        498       499  \n",
       "0     1.000000  1.000000  1.000000  1.000000  1.000000   1.000000  1.000000  \n",
       "1     0.999580  0.979536  1.003404  0.995870  1.004894   0.992653  1.009853  \n",
       "2     0.996345  0.965388  1.010952  1.001047  1.001487   1.004814  1.017175  \n",
       "3     0.990828  0.954466  1.023351  1.024506  0.990567   0.999952  1.024311  \n",
       "4     1.008778  0.964025  1.045605  1.026768  1.001624   1.019504  1.007435  \n",
       "...        ...       ...       ...       ...       ...        ...       ...  \n",
       "2516  9.566154  1.682968  8.419833  2.695447  2.670565  10.103784  3.066236  \n",
       "2517  9.527262  1.692076  8.512498  2.750713  2.686062  10.081483  3.070869  \n",
       "2518  9.712400  1.675292  8.389085  2.742670  2.680500  10.147057  3.053660  \n",
       "2519  9.678650  1.700218  8.361616  2.765369  2.707388  10.113271  3.028194  \n",
       "2520  9.756588  1.707952  8.147807  2.721145  2.701452  10.323657  3.063607  \n",
       "\n",
       "[2521 rows x 500 columns]"
      ]
     },
     "execution_count": 106,
     "metadata": {},
     "output_type": "execute_result"
    }
   ],
   "source": [
    "# Run the Monte Carlo simulation to forecast 10 years cumulative returns\n",
    "ten_year_simulation.calc_cumulative_return()"
   ]
  },
  {
   "cell_type": "code",
   "execution_count": 107,
   "metadata": {},
   "outputs": [
    {
     "data": {
      "text/plain": [
       "<AxesSubplot:title={'center':'500 Simulations of Cumulative Portfolio Return Trajectories Over the Next 2520 Trading Days.'}>"
      ]
     },
     "execution_count": 107,
     "metadata": {},
     "output_type": "execute_result"
    },
    {
     "data": {
      "image/png": "[encoded data removed]",
      "text/plain": [
       "<Figure size 432x288 with 1 Axes>"
      ]
     },
     "metadata": {
      "needs_background": "light"
     },
     "output_type": "display_data"
    }
   ],
   "source": [
    "# Visualize the 10-year Monte Carlo simulation by creating an\n",
    "# overlay line plot\n",
    "ten_year_simulation.plot_simulation()\n"
   ]
  },
  {
   "cell_type": "code",
   "execution_count": 108,
   "metadata": {},
   "outputs": [
    {
     "data": {
      "text/plain": [
       "<AxesSubplot:title={'center':'Distribution of Final Cumuluative Returns Across All 500 Simulations'}, ylabel='Frequency'>"
      ]
     },
     "execution_count": 108,
     "metadata": {},
     "output_type": "execute_result"
    },
    {
     "data": {
      "image/png": "[encoded data removed]",
      "text/plain": [
       "<Figure size 432x288 with 1 Axes>"
      ]
     },
     "metadata": {
      "needs_background": "light"
     },
     "output_type": "display_data"
    }
   ],
   "source": [
    "# Visualize the probability distribution of the 10-year Monte Carlo simulation \n",
    "# by plotting a histogram\n",
    "ten_year_simulation.plot_distribution()"
   ]
  },
  {
   "cell_type": "code",
   "execution_count": 109,
   "metadata": {},
   "outputs": [
    {
     "data": {
      "text/plain": [
       "count           500.000000\n",
       "mean              4.128859\n",
       "std               2.593362\n",
       "min               0.541238\n",
       "25%               2.374233\n",
       "50%               3.562578\n",
       "75%               4.950168\n",
       "max              19.683095\n",
       "95% CI Lower      1.115853\n",
       "95% CI Upper     11.822874\n",
       "Name: 2520, dtype: float64"
      ]
     },
     "execution_count": 109,
     "metadata": {},
     "output_type": "execute_result"
    }
   ],
   "source": [
    "# Generate summary statistics from the 10-year Monte Carlo simulation results\n",
    "# Save the results as a variable\n",
    "summary_statistics_10 = ten_year_simulation.summarize_cumulative_return()\n",
    "\n",
    "\n",
    "# Review the 10-year Monte Carlo summary statistics\n",
    "summary_statistics_10"
   ]
  },
  {
   "cell_type": "markdown",
   "metadata": {},
   "source": [
    "### Answer the following questions:"
   ]
  },
  {
   "cell_type": "markdown",
   "metadata": {},
   "source": [
    "#### Question: Using the current value of only the stock and bond portion of the member's portfolio and the summary statistics that you generated from the new Monte Carlo simulation, what are the lower and upper bounds for the expected value of the portfolio (with the new weights) with a 95% confidence interval?\n",
    "A: \n",
    "95% CI Lower      1.115853\n",
    "95% CI Upper     11.822874\n"
   ]
  },
  {
   "cell_type": "code",
   "execution_count": 110,
   "metadata": {},
   "outputs": [
    {
     "data": {
      "text/plain": [
       "71523.9"
      ]
     },
     "execution_count": 110,
     "metadata": {},
     "output_type": "execute_result"
    }
   ],
   "source": [
    "# Print the current balance of the stock and bond portion of the members portfolio\n",
    "total_stocks_bonds\n"
   ]
  },
  {
   "cell_type": "code",
   "execution_count": 111,
   "metadata": {},
   "outputs": [
    {
     "data": {
      "text/plain": [
       "79810.15838669999"
      ]
     },
     "metadata": {},
     "output_type": "display_data"
    },
    {
     "data": {
      "text/plain": [
       "845618.0576885999"
      ]
     },
     "metadata": {},
     "output_type": "display_data"
    }
   ],
   "source": [
    "# Use the lower and upper `95%` confidence intervals to calculate the range of the possible outcomes for the current stock/bond portfolio\n",
    "ci_lower_ten = 1.115853\n",
    "ci_upper_ten = 11.822874\n",
    "ci_lower_ten_cumulative_return = total_stocks_bonds * ci_lower_ten\n",
    "ci_upper_ten_cumulative_return = total_stocks_bonds * ci_upper_ten\n",
    "\n",
    "# Print the result of your calculations\n",
    "display(ci_lower_ten_cumulative_return)\n",
    "display(ci_upper_ten_cumulative_return)"
   ]
  },
  {
   "cell_type": "markdown",
   "metadata": {},
   "source": [
    "#### Question: Will weighting the portfolio more heavily to stocks allow the credit union members to retire after only 10 years?"
   ]
  },
  {
   "cell_type": "raw",
   "metadata": {},
   "source": [
    "**Answer** # YOUR ANSWER HERE\n",
    "\n",
    "10 year 2:8 distribution [bond:equity]\n",
    "95% CI Lower      1.115853\n",
    "95% CI Upper     11.822874\n",
    "\n",
    "30 year 4:6 distribution [bond:equity]\n",
    "95% CI Lower      5.218708\n",
    "95% CI Upper    100.916050\n",
    "\n",
    "30-year portfolio offers much better CI lower return when compared to 10-year portfolio, by 62% ((30 year CI lower /3) – 10 year CI lower).  In worst case scenario, 30 year offers better return than 10 years, and much more upside than 10-year portfolio.  Therefore, I would not recommend changing portfolio to 10 years based on the data above. "
   ]
  },
  {
   "cell_type": "code",
   "execution_count": null,
   "metadata": {},
   "outputs": [],
   "source": []
  }
 ],
 "metadata": {
  "kernelspec": {
   "display_name": "py37",
   "language": "python",
   "name": "py37"
  },
  "language_info": {
   "codemirror_mode": {
    "name": "ipython",
    "version": 3
   },
   "file_extension": ".py",
   "mimetype": "text/x-python",
   "name": "python",
   "nbconvert_exporter": "python",
   "pygments_lexer": "ipython3",
   "version": "3.8.8"
  }
 },
 "nbformat": 4,
 "nbformat_minor": 4
}
